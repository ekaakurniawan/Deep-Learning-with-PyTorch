{
 "cells": [
  {
   "cell_type": "markdown",
   "metadata": {},
   "source": [
    "# Inference and Validation\n",
    "\n",
    "Now that you have a trained network, you can use it for making predictions. This is typically called **inference**, a term borrowed from statistics. However, neural networks have a tendency to perform *too well* on the training data and aren't able to generalize to data that hasn't been seen before. This is called **overfitting** and it impairs inference performance. To test for overfitting while training, we measure the performance on data not in the training set called the **validation** set. We avoid overfitting through regularization such as dropout while monitoring the validation performance during training. In this notebook, I'll show you how to do this in PyTorch. \n",
    "\n",
    "As usual, let's start by loading the dataset through torchvision. You'll learn more about torchvision and loading data in a later part. This time we'll be taking advantage of the test set which you can get by setting `train=False` here:\n",
    "\n",
    "```python\n",
    "testset = datasets.FashionMNIST('~/.pytorch/F_MNIST_data/', download=True, train=False, transform=transform)\n",
    "```\n",
    "\n",
    "The test set contains images just like the training set. Typically you'll see 10-20% of the original dataset held out for testing and validation with the rest being used for training."
   ]
  },
  {
   "cell_type": "code",
   "execution_count": 2,
   "metadata": {},
   "outputs": [],
   "source": [
    "import time\n",
    "import matplotlib.pyplot as plt\n",
    "import numpy as np"
   ]
  },
  {
   "cell_type": "code",
   "execution_count": 3,
   "metadata": {},
   "outputs": [],
   "source": [
    "import torch\n",
    "from torchvision import datasets, transforms\n",
    "\n",
    "# Define a transform to normalize the data\n",
    "transform = transforms.Compose([transforms.ToTensor(),\n",
    "                                transforms.Normalize((0.5, 0.5, 0.5), (0.5, 0.5, 0.5))])\n",
    "# Download and load the training data\n",
    "trainset = datasets.FashionMNIST('~/.pytorch/F_MNIST_data/', download=True, train=True, transform=transform)\n",
    "trainloader = torch.utils.data.DataLoader(trainset, batch_size=64, shuffle=True, \\\n",
    "                                          num_workers = 12)\n",
    "\n",
    "# Download and load the test data\n",
    "testset = datasets.FashionMNIST('~/.pytorch/F_MNIST_data/', download=True, train=False, transform=transform)\n",
    "testloader = torch.utils.data.DataLoader(testset, batch_size=64, shuffle=True, \\\n",
    "                                         num_workers = 12)"
   ]
  },
  {
   "cell_type": "markdown",
   "metadata": {},
   "source": [
    "Here I'll create a model like normal, using the same one from my solution for part 4."
   ]
  },
  {
   "cell_type": "code",
   "execution_count": 4,
   "metadata": {},
   "outputs": [],
   "source": [
    "from torch import nn, optim\n",
    "import torch.nn.functional as F\n",
    "\n",
    "class Classifier(nn.Module):\n",
    "    def __init__(self):\n",
    "        super().__init__()\n",
    "        self.fc1 = nn.Linear(784, 256)\n",
    "        self.fc2 = nn.Linear(256, 128)\n",
    "        self.fc3 = nn.Linear(128, 64)\n",
    "        self.fc4 = nn.Linear(64, 10)\n",
    "        \n",
    "    def forward(self, x):\n",
    "        # make sure input tensor is flattened\n",
    "        x = x.view(x.shape[0], -1)\n",
    "        \n",
    "        x = F.relu(self.fc1(x))\n",
    "        x = F.relu(self.fc2(x))\n",
    "        x = F.relu(self.fc3(x))\n",
    "        x = F.log_softmax(self.fc4(x), dim=1)\n",
    "        \n",
    "        return x"
   ]
  },
  {
   "cell_type": "markdown",
   "metadata": {},
   "source": [
    "The goal of validation is to measure the model's performance on data that isn't part of the training set. Performance here is up to the developer to define though. Typically this is just accuracy, the percentage of classes the network predicted correctly. Other options are [precision and recall](https://en.wikipedia.org/wiki/Precision_and_recall#Definition_(classification_context)) and top-5 error rate. We'll focus on accuracy here. First I'll do a forward pass with one batch from the test set."
   ]
  },
  {
   "cell_type": "code",
   "execution_count": 5,
   "metadata": {},
   "outputs": [
    {
     "name": "stdout",
     "output_type": "stream",
     "text": [
      "torch.Size([64, 10])\n"
     ]
    }
   ],
   "source": [
    "model = Classifier()\n",
    "\n",
    "images, labels = next(iter(testloader))\n",
    "# Get the class probabilities\n",
    "ps = torch.exp(model(images))\n",
    "# Make sure the shape is appropriate, we should get 10 class probabilities for 64 examples\n",
    "print(ps.shape)"
   ]
  },
  {
   "cell_type": "code",
   "execution_count": 5,
   "metadata": {},
   "outputs": [
    {
     "data": {
      "text/plain": [
       "tensor([0.1037, 0.0871, 0.1016, 0.1019, 0.1036, 0.0973, 0.1012, 0.1111, 0.0990,\n",
       "        0.0936], grad_fn=<SelectBackward>)"
      ]
     },
     "execution_count": 5,
     "metadata": {},
     "output_type": "execute_result"
    }
   ],
   "source": [
    "ps[0]"
   ]
  },
  {
   "cell_type": "code",
   "execution_count": 6,
   "metadata": {},
   "outputs": [
    {
     "data": {
      "text/plain": [
       "tensor(1.0000, grad_fn=<SumBackward0>)"
      ]
     },
     "execution_count": 6,
     "metadata": {},
     "output_type": "execute_result"
    }
   ],
   "source": [
    "torch.sum(ps[0])"
   ]
  },
  {
   "cell_type": "markdown",
   "metadata": {},
   "source": [
    "With the probabilities, we can get the most likely class using the `ps.topk` method. This returns the $k$ highest values. Since we just want the most likely class, we can use `ps.topk(1)`. This returns a tuple of the top-$k$ values and the top-$k$ indices. If the highest value is the fifth element, we'll get back 4 as the index."
   ]
  },
  {
   "cell_type": "code",
   "execution_count": 7,
   "metadata": {
    "scrolled": true
   },
   "outputs": [],
   "source": [
    "top_p, top_class = ps.topk(1, dim=1)"
   ]
  },
  {
   "cell_type": "code",
   "execution_count": 8,
   "metadata": {},
   "outputs": [
    {
     "name": "stdout",
     "output_type": "stream",
     "text": [
      "tensor([[0.1111],\n",
      "        [0.1103],\n",
      "        [0.1103],\n",
      "        [0.1090],\n",
      "        [0.1076],\n",
      "        [0.1103],\n",
      "        [0.1115],\n",
      "        [0.1075],\n",
      "        [0.1088],\n",
      "        [0.1095]], grad_fn=<SliceBackward>)\n"
     ]
    }
   ],
   "source": [
    "print(top_p[:10,:])"
   ]
  },
  {
   "cell_type": "code",
   "execution_count": 9,
   "metadata": {},
   "outputs": [
    {
     "name": "stdout",
     "output_type": "stream",
     "text": [
      "tensor([[7],\n",
      "        [7],\n",
      "        [7],\n",
      "        [7],\n",
      "        [7],\n",
      "        [7],\n",
      "        [7],\n",
      "        [7],\n",
      "        [7],\n",
      "        [7]])\n"
     ]
    }
   ],
   "source": [
    "# Look at the most likely classes for the first 10 examples\n",
    "print(top_class[:10,:])"
   ]
  },
  {
   "cell_type": "markdown",
   "metadata": {},
   "source": [
    "Check the labels."
   ]
  },
  {
   "cell_type": "code",
   "execution_count": 10,
   "metadata": {},
   "outputs": [
    {
     "data": {
      "text/plain": [
       "64"
      ]
     },
     "execution_count": 10,
     "metadata": {},
     "output_type": "execute_result"
    }
   ],
   "source": [
    "len(labels)"
   ]
  },
  {
   "cell_type": "code",
   "execution_count": 11,
   "metadata": {},
   "outputs": [
    {
     "data": {
      "text/plain": [
       "tensor([7, 7, 3, 3, 3, 0, 8, 8, 5, 8])"
      ]
     },
     "execution_count": 11,
     "metadata": {},
     "output_type": "execute_result"
    }
   ],
   "source": [
    "labels[:10]"
   ]
  },
  {
   "cell_type": "markdown",
   "metadata": {},
   "source": [
    "Now we can check if the predicted classes match the labels. This is simple to do by equating `top_class` and `labels`, but we have to be careful of the shapes. Here `top_class` is a 2D tensor with shape `(64, 1)` while `labels` is 1D with shape `(64)`. To get the equality to work out the way we want, `top_class` and `labels` must have the same shape.\n",
    "\n",
    "If we do\n",
    "\n",
    "```python\n",
    "equals = top_class == labels\n",
    "```\n",
    "\n",
    "`equals` will have shape `(64, 64)`, try it yourself. What it's doing is comparing the one element in each row of `top_class` with each element in `labels` which returns 64 True/False boolean values for each row."
   ]
  },
  {
   "cell_type": "code",
   "execution_count": 12,
   "metadata": {},
   "outputs": [
    {
     "data": {
      "text/plain": [
       "torch.Size([64, 1])"
      ]
     },
     "execution_count": 12,
     "metadata": {},
     "output_type": "execute_result"
    }
   ],
   "source": [
    "top_class.shape"
   ]
  },
  {
   "cell_type": "markdown",
   "metadata": {},
   "source": [
    "We will use `top_class.shape` instead of `*top_class.shape`. The asterisk is to keep the tuple (refer to [this](https://stackoverflow.com/questions/400739/what-does-asterisk-mean-in-python))."
   ]
  },
  {
   "cell_type": "code",
   "execution_count": 13,
   "metadata": {},
   "outputs": [],
   "source": [
    "equals = top_class == labels.view(top_class.shape)"
   ]
  },
  {
   "cell_type": "code",
   "execution_count": 14,
   "metadata": {},
   "outputs": [
    {
     "data": {
      "text/plain": [
       "tensor([[1],\n",
       "        [1],\n",
       "        [0],\n",
       "        [0],\n",
       "        [0],\n",
       "        [0],\n",
       "        [0],\n",
       "        [0],\n",
       "        [0],\n",
       "        [0]], dtype=torch.uint8)"
      ]
     },
     "execution_count": 14,
     "metadata": {},
     "output_type": "execute_result"
    }
   ],
   "source": [
    "equals[:10]"
   ]
  },
  {
   "cell_type": "markdown",
   "metadata": {},
   "source": [
    "Now we need to calculate the percentage of correct predictions. `equals` has binary values, either 0 or 1. This means that if we just sum up all the values and divide by the number of values, we get the percentage of correct predictions. This is the same operation as taking the mean, so we can get the accuracy with a call to `torch.mean`. If only it was that simple. If you try `torch.mean(equals)`, you'll get an error\n",
    "\n",
    "```\n",
    "RuntimeError: mean is not implemented for type torch.ByteTensor\n",
    "```\n",
    "\n",
    "This happens because `equals` has type `torch.ByteTensor` but `torch.mean` isn't implement for tensors with that type. So we'll need to convert `equals` to a float tensor. Note that when we take `torch.mean` it returns a scalar tensor, to get the actual value as a float we'll need to do `accuracy.item()`."
   ]
  },
  {
   "cell_type": "code",
   "execution_count": 15,
   "metadata": {},
   "outputs": [
    {
     "name": "stdout",
     "output_type": "stream",
     "text": [
      "Accuracy: 7.8125%\n"
     ]
    }
   ],
   "source": [
    "accuracy = torch.mean(equals.type(torch.FloatTensor))\n",
    "print(f'Accuracy: {accuracy.item()*100}%')"
   ]
  },
  {
   "cell_type": "markdown",
   "metadata": {},
   "source": [
    "The network is untrained so it's making random guesses and we should see an accuracy around 10%. Now let's train our network and include our validation pass so we can measure how well the network is performing on the test set. Since we're not updating our parameters in the validation pass, we can speed up our code by turning off gradients using `torch.no_grad()`:\n",
    "\n",
    "```python\n",
    "# turn off gradients\n",
    "with torch.no_grad():\n",
    "    # validation pass here\n",
    "    for images, labels in testloader:\n",
    "        ...\n",
    "```\n",
    "\n",
    ">**Exercise:** Implement the validation loop below and print out the total accuracy after the loop. You can largely copy and paste the code from above, but I suggest typing it in because writing it out yourself is essential for building the skill. In general you'll always learn more by typing it rather than copy-pasting. You should be able to get an accuracy above 80%."
   ]
  },
  {
   "cell_type": "code",
   "execution_count": 16,
   "metadata": {},
   "outputs": [
    {
     "name": "stdout",
     "output_type": "stream",
     "text": [
      "epoch  1, runtime  6.341 seconds\n",
      "epoch  2, runtime  7.479 seconds\n",
      "epoch  3, runtime  7.874 seconds\n",
      "epoch  4, runtime  7.709 seconds\n",
      "epoch  5, runtime  9.173 seconds\n",
      "epoch  6, runtime  9.065 seconds\n",
      "epoch  7, runtime  8.473 seconds\n",
      "epoch  8, runtime  9.239 seconds\n",
      "epoch  9, runtime  9.084 seconds\n",
      "epoch 10, runtime  9.776 seconds\n",
      "epoch 11, runtime  9.210 seconds\n",
      "epoch 12, runtime  9.915 seconds\n",
      "epoch 13, runtime  9.432 seconds\n",
      "epoch 14, runtime  9.176 seconds\n",
      "epoch 15, runtime  9.148 seconds\n",
      "epoch 16, runtime  9.560 seconds\n",
      "epoch 17, runtime  9.069 seconds\n",
      "epoch 18, runtime 10.349 seconds\n",
      "epoch 19, runtime 10.118 seconds\n",
      "epoch 20, runtime  9.753 seconds\n",
      "epoch 21, runtime  9.864 seconds\n",
      "epoch 22, runtime  9.750 seconds\n",
      "epoch 23, runtime 10.295 seconds\n",
      "epoch 24, runtime 10.703 seconds\n",
      "epoch 25, runtime 11.117 seconds\n",
      "epoch 26, runtime 11.600 seconds\n",
      "epoch 27, runtime 11.065 seconds\n",
      "epoch 28, runtime 10.821 seconds\n",
      "epoch 29, runtime 11.198 seconds\n",
      "epoch 30, runtime 10.559 seconds\n"
     ]
    }
   ],
   "source": [
    "model = Classifier()\n",
    "model = nn.DataParallel(model, device_ids=[0])\n",
    "\n",
    "criterion = nn.NLLLoss()\n",
    "criterion = nn.DataParallel(criterion, device_ids=[0])\n",
    "\n",
    "optimizer = optim.Adam(model.parameters(), lr=0.003)\n",
    "\n",
    "epochs = 30\n",
    "steps = 0\n",
    "\n",
    "train_loss_epochs = []\n",
    "test_loss_epochs = []\n",
    "for e in range(epochs):\n",
    "    tic = time.time()\n",
    "    \n",
    "    train_losses = []\n",
    "    test_losses = []\n",
    "    for images, labels in trainloader:\n",
    "        # Clear the gradients, do this because gradients are accumulated\n",
    "        optimizer.zero_grad()\n",
    "        # Forward and backward propagations\n",
    "        log_ps = model(images)\n",
    "        loss = criterion(log_ps, labels)\n",
    "        loss.backward()\n",
    "        optimizer.step()\n",
    "        # Calculate train accuracy\n",
    "        ps = torch.exp(log_ps)\n",
    "        top_p, top_class = ps.topk(1, dim=1)\n",
    "        equals = top_class == labels.view(top_class.shape)\n",
    "        accuracy = torch.mean(equals.type(torch.FloatTensor)).item()\n",
    "        train_losses.append(1-accuracy)\n",
    "        \n",
    "    else:\n",
    "        ## TODO: Implement the validation pass and print out the validation accuracy\n",
    "        # turn off gradients\n",
    "        # Calculate test accuracy with gradient calculation off\n",
    "        with torch.no_grad():\n",
    "            # validation pass here\n",
    "            for images, labels in testloader:\n",
    "                ps = torch.exp(model(images))\n",
    "                top_p, top_class = ps.topk(1, dim=1)\n",
    "                equals = top_class == labels.view(top_class.shape)\n",
    "                accuracy = torch.mean(equals.type(torch.FloatTensor)).item()\n",
    "                test_losses.append(1-accuracy)\n",
    "\n",
    "    toc = time.time()\n",
    "    print(\"epoch %2d, runtime %6.3f seconds\" % (e + 1, toc - tic))\n",
    "    train_loss_epoch = torch.mean(torch.tensor(train_losses))\n",
    "    train_loss_epochs.append(train_loss_epoch.item())\n",
    "    #bar print(\"    Training loss   : %5.2f\" % train_loss_epoch)\n",
    "    test_loss_epoch = torch.mean(torch.tensor(test_losses))\n",
    "    test_loss_epochs.append(test_loss_epoch.item())\n",
    "    #bar print(\"    Validation loss : %5.2f\" % test_loss_epoch)"
   ]
  },
  {
   "cell_type": "markdown",
   "metadata": {},
   "source": [
    "CPU runtime:\n",
    "```\n",
    "epoch  1, runtime  7.735 seconds\n",
    "epoch  2, runtime  9.293 seconds\n",
    "epoch  3, runtime  8.857 seconds\n",
    "epoch  4, runtime  8.158 seconds\n",
    "epoch  5, runtime  9.461 seconds\n",
    "epoch  6, runtime  9.997 seconds\n",
    "epoch  7, runtime 10.285 seconds\n",
    "epoch  8, runtime 10.003 seconds\n",
    "epoch  9, runtime 10.595 seconds\n",
    "epoch 10, runtime 10.127 seconds\n",
    "epoch 11, runtime 10.630 seconds\n",
    "epoch 12, runtime 11.668 seconds\n",
    "epoch 13, runtime 12.156 seconds\n",
    "epoch 14, runtime 12.197 seconds\n",
    "epoch 15, runtime 11.198 seconds\n",
    "epoch 16, runtime 11.119 seconds\n",
    "epoch 17, runtime 11.664 seconds\n",
    "epoch 18, runtime 12.423 seconds\n",
    "epoch 19, runtime 12.746 seconds\n",
    "epoch 20, runtime 12.867 seconds\n",
    "epoch 21, runtime 12.898 seconds\n",
    "epoch 22, runtime 12.913 seconds\n",
    "epoch 23, runtime 12.847 seconds\n",
    "epoch 24, runtime 13.072 seconds\n",
    "epoch 25, runtime 13.124 seconds\n",
    "epoch 26, runtime 12.768 seconds\n",
    "epoch 27, runtime 12.983 seconds\n",
    "epoch 28, runtime 13.231 seconds\n",
    "epoch 29, runtime 13.435 seconds\n",
    "epoch 30, runtime 12.914 seconds\n",
    "```"
   ]
  },
  {
   "cell_type": "markdown",
   "metadata": {},
   "source": [
    "GPU runtime:\n",
    "```\n",
    "epoch  1, runtime  6.341 seconds\n",
    "epoch  2, runtime  7.479 seconds\n",
    "epoch  3, runtime  7.874 seconds\n",
    "epoch  4, runtime  7.709 seconds\n",
    "epoch  5, runtime  9.173 seconds\n",
    "epoch  6, runtime  9.065 seconds\n",
    "epoch  7, runtime  8.473 seconds\n",
    "epoch  8, runtime  9.239 seconds\n",
    "epoch  9, runtime  9.084 seconds\n",
    "epoch 10, runtime  9.776 seconds\n",
    "epoch 11, runtime  9.210 seconds\n",
    "epoch 12, runtime  9.915 seconds\n",
    "epoch 13, runtime  9.432 seconds\n",
    "epoch 14, runtime  9.176 seconds\n",
    "epoch 15, runtime  9.148 seconds\n",
    "epoch 16, runtime  9.560 seconds\n",
    "epoch 17, runtime  9.069 seconds\n",
    "epoch 18, runtime 10.349 seconds\n",
    "epoch 19, runtime 10.118 seconds\n",
    "epoch 20, runtime  9.753 seconds\n",
    "epoch 21, runtime  9.864 seconds\n",
    "epoch 22, runtime  9.750 seconds\n",
    "epoch 23, runtime 10.295 seconds\n",
    "epoch 24, runtime 10.703 seconds\n",
    "epoch 25, runtime 11.117 seconds\n",
    "epoch 26, runtime 11.600 seconds\n",
    "epoch 27, runtime 11.065 seconds\n",
    "epoch 28, runtime 10.821 seconds\n",
    "epoch 29, runtime 11.198 seconds\n",
    "epoch 30, runtime 10.559 seconds\n",
    "```"
   ]
  },
  {
   "cell_type": "code",
   "execution_count": 17,
   "metadata": {},
   "outputs": [
    {
     "data": {
      "text/plain": [
       "[0.18395189940929413,\n",
       " 0.14342351257801056,\n",
       " 0.13019722700119019,\n",
       " 0.12311767041683197,\n",
       " 0.11743737012147903,\n",
       " 0.1107909083366394,\n",
       " 0.1082589253783226,\n",
       " 0.10374467074871063,\n",
       " 0.10106276720762253,\n",
       " 0.09818097203969955,\n",
       " 0.09743136912584305,\n",
       " 0.09335021674633026,\n",
       " 0.09046841412782669,\n",
       " 0.08853611350059509,\n",
       " 0.08825293183326721,\n",
       " 0.08525452762842178,\n",
       " 0.08298907428979874,\n",
       " 0.08150652796030045,\n",
       " 0.08054038137197495,\n",
       " 0.07987406849861145,\n",
       " 0.07705890387296677,\n",
       " 0.07650919258594513,\n",
       " 0.07466018199920654,\n",
       " 0.07394389808177948,\n",
       " 0.0723947212100029,\n",
       " 0.07116204500198364,\n",
       " 0.06907982379198074,\n",
       " 0.06916311383247375,\n",
       " 0.06689765304327011,\n",
       " 0.0676305964589119]"
      ]
     },
     "execution_count": 17,
     "metadata": {},
     "output_type": "execute_result"
    }
   ],
   "source": [
    "train_loss_epochs"
   ]
  },
  {
   "cell_type": "code",
   "execution_count": 18,
   "metadata": {},
   "outputs": [
    {
     "data": {
      "text/plain": [
       "[0.16092754900455475,\n",
       " 0.15067675709724426,\n",
       " 0.15017913281917572,\n",
       " 0.13614650070667267,\n",
       " 0.14530254900455475,\n",
       " 0.13156847655773163,\n",
       " 0.12529855966567993,\n",
       " 0.13097134232521057,\n",
       " 0.12619426846504211,\n",
       " 0.11833200603723526,\n",
       " 0.1197253167629242,\n",
       " 0.1259952187538147,\n",
       " 0.11723726242780685,\n",
       " 0.12261146306991577,\n",
       " 0.1302746832370758,\n",
       " 0.1271894872188568,\n",
       " 0.11942674964666367,\n",
       " 0.11723726242780685,\n",
       " 0.11843153089284897,\n",
       " 0.11415206640958786,\n",
       " 0.11723726242780685,\n",
       " 0.12679140269756317,\n",
       " 0.11733677983283997,\n",
       " 0.11803343892097473,\n",
       " 0.12440286576747894,\n",
       " 0.11514729261398315,\n",
       " 0.11275875568389893,\n",
       " 0.12052149325609207,\n",
       " 0.11415206640958786,\n",
       " 0.11922770738601685]"
      ]
     },
     "execution_count": 18,
     "metadata": {},
     "output_type": "execute_result"
    }
   ],
   "source": [
    "test_loss_epochs"
   ]
  },
  {
   "cell_type": "code",
   "execution_count": 29,
   "metadata": {},
   "outputs": [
    {
     "data": {
      "image/png": "[encoded data removed]",
      "text/plain": [
       "<Figure size 432x288 with 1 Axes>"
      ]
     },
     "metadata": {
      "needs_background": "light"
     },
     "output_type": "display_data"
    }
   ],
   "source": [
    "fig = plt.figure()\n",
    "ax1 = fig.add_subplot(111)\n",
    "\n",
    "y = [i+1 for i in range(epochs)]\n",
    "ax1.plot(y, train_loss_epochs, label='Training loss')\n",
    "ax1.plot(y, test_loss_epochs, label='Testing loss')\n",
    "plt.legend(loc='upper right');\n",
    "\n",
    "plt.ylabel('loss (1 - accuracy)')\n",
    "plt.xlabel('# epoch')\n",
    "plt.show()"
   ]
  },
  {
   "cell_type": "markdown",
   "metadata": {},
   "source": [
    "## Overfitting\n",
    "\n",
    "If we look at the training and validation losses as we train the network, we can see a phenomenon known as overfitting.\n",
    "\n",
    "<img src='assets/overfitting.png' width=450px>\n",
    "\n",
    "The network learns the training set better and better, resulting in lower training losses. However, it starts having problems generalizing to data outside the training set leading to the validation loss increasing. The ultimate goal of any deep learning model is to make predictions on new data, so we should strive to get the lowest validation loss possible. One option is to use the version of the model with the lowest validation loss, here the one around 8-10 training epochs. This strategy is called *early-stopping*. In practice, you'd save the model frequently as you're training then later choose the model with the lowest validation loss.\n",
    "\n",
    "The most common method to reduce overfitting (outside of early-stopping) is *dropout*, where we randomly drop input units. This forces the network to share information between weights, increasing it's ability to generalize to new data. Adding dropout in PyTorch is straightforward using the [`nn.Dropout`](https://pytorch.org/docs/stable/nn.html#torch.nn.Dropout) module.\n",
    "\n",
    "```python\n",
    "class Classifier(nn.Module):\n",
    "    def __init__(self):\n",
    "        super().__init__()\n",
    "        self.fc1 = nn.Linear(784, 256)\n",
    "        self.fc2 = nn.Linear(256, 128)\n",
    "        self.fc3 = nn.Linear(128, 64)\n",
    "        self.fc4 = nn.Linear(64, 10)\n",
    "        \n",
    "        # Dropout module with 0.2 drop probability\n",
    "        self.dropout = nn.Dropout(p=0.2)\n",
    "        \n",
    "    def forward(self, x):\n",
    "        # make sure input tensor is flattened\n",
    "        x = x.view(x.shape[0], -1)\n",
    "        \n",
    "        # Now with dropout\n",
    "        x = self.dropout(F.relu(self.fc1(x)))\n",
    "        x = self.dropout(F.relu(self.fc2(x)))\n",
    "        x = self.dropout(F.relu(self.fc3(x)))\n",
    "        \n",
    "        # output so no dropout here\n",
    "        x = F.log_softmax(self.fc4(x), dim=1)\n",
    "        \n",
    "        return x\n",
    "```\n",
    "\n",
    "During training we want to use dropout to prevent overfitting, but during inference we want to use the entire network. So, we need to turn off dropout during validation, testing, and whenever we're using the network to make predictions. To do this, you use `model.eval()`. This sets the model to evaluation mode where the dropout probability is 0. You can turn dropout back on by setting the model to train mode with `model.train()`. In general, the pattern for the validation loop will look like this, where you turn off gradients, set the model to evaluation mode, calculate the validation loss and metric, then set the model back to train mode.\n",
    "\n",
    "```python\n",
    "# turn off gradients\n",
    "with torch.no_grad():\n",
    "    \n",
    "    # set model to evaluation mode\n",
    "    model.eval()\n",
    "    \n",
    "    # validation pass here\n",
    "    for images, labels in testloader:\n",
    "        ...\n",
    "\n",
    "# set model back to train mode\n",
    "model.train()\n",
    "```"
   ]
  },
  {
   "cell_type": "markdown",
   "metadata": {},
   "source": [
    "> **Exercise:** Add dropout to your model and train it on Fashion-MNIST again. See if you can get a lower validation loss or higher accuracy."
   ]
  },
  {
   "cell_type": "code",
   "execution_count": 30,
   "metadata": {},
   "outputs": [],
   "source": [
    "## TODO: Define your model with dropout added\n",
    "from torch import nn, optim\n",
    "import torch.nn.functional as F\n",
    "\n",
    "class Classifier(nn.Module):\n",
    "    def __init__(self):\n",
    "        super().__init__()\n",
    "        self.fc1 = nn.Linear(784, 256)\n",
    "        self.fc2 = nn.Linear(256, 128)\n",
    "        self.fc3 = nn.Linear(128, 64)\n",
    "        self.fc4 = nn.Linear(64, 10)\n",
    "        \n",
    "        # Dropout module with 0.2 drop probability\n",
    "        self.dropout = nn.Dropout(p=0.2)\n",
    "        \n",
    "    def forward(self, x):\n",
    "        # make sure input tensor is flattened\n",
    "        x = x.view(x.shape[0], -1)\n",
    "        \n",
    "        x = self.dropout(F.relu(self.fc1(x)))\n",
    "        x = self.dropout(F.relu(self.fc2(x)))\n",
    "        x = self.dropout(F.relu(self.fc3(x)))\n",
    "        x = F.log_softmax(self.fc4(x), dim=1)\n",
    "        \n",
    "        return x"
   ]
  },
  {
   "cell_type": "code",
   "execution_count": 31,
   "metadata": {},
   "outputs": [
    {
     "name": "stdout",
     "output_type": "stream",
     "text": [
      "epoch  1, runtime  6.614 seconds\n",
      "epoch  2, runtime  8.514 seconds\n",
      "epoch  3, runtime  9.279 seconds\n",
      "epoch  4, runtime  8.600 seconds\n",
      "epoch  5, runtime  8.857 seconds\n",
      "epoch  6, runtime  9.680 seconds\n",
      "epoch  7, runtime 10.158 seconds\n",
      "epoch  8, runtime 11.228 seconds\n",
      "epoch  9, runtime 11.042 seconds\n",
      "epoch 10, runtime 11.727 seconds\n",
      "epoch 11, runtime 12.195 seconds\n",
      "epoch 12, runtime 12.045 seconds\n",
      "epoch 13, runtime  9.920 seconds\n",
      "epoch 14, runtime 10.298 seconds\n",
      "epoch 15, runtime 10.679 seconds\n",
      "epoch 16, runtime 11.694 seconds\n",
      "epoch 17, runtime 11.455 seconds\n",
      "epoch 18, runtime 11.397 seconds\n",
      "epoch 19, runtime 11.820 seconds\n",
      "epoch 20, runtime 11.780 seconds\n",
      "epoch 21, runtime 11.258 seconds\n",
      "epoch 22, runtime 11.350 seconds\n",
      "epoch 23, runtime 11.785 seconds\n",
      "epoch 24, runtime 11.872 seconds\n",
      "epoch 25, runtime 11.993 seconds\n",
      "epoch 26, runtime 11.706 seconds\n",
      "epoch 27, runtime 12.107 seconds\n",
      "epoch 28, runtime 12.417 seconds\n",
      "epoch 29, runtime 11.741 seconds\n",
      "epoch 30, runtime 12.224 seconds\n"
     ]
    }
   ],
   "source": [
    "## TODO: Train your model with dropout, and monitor the training progress with the validation loss and accuracy\n",
    "model = Classifier()\n",
    "model = nn.DataParallel(model, device_ids=[0])\n",
    "\n",
    "criterion = nn.NLLLoss()\n",
    "criterion = nn.DataParallel(criterion, device_ids=[0])\n",
    "\n",
    "optimizer = optim.Adam(model.parameters(), lr=0.003)\n",
    "\n",
    "epochs = 30\n",
    "steps = 0\n",
    "\n",
    "train_loss_epochs = []\n",
    "test_loss_epochs = []\n",
    "for e in range(epochs):\n",
    "    tic = time.time()\n",
    "    \n",
    "    train_losses = []\n",
    "    test_losses = []\n",
    "    # set model back to train mode\n",
    "    model.train()\n",
    "    for images, labels in trainloader:\n",
    "        # Clear the gradients, do this because gradients are accumulated\n",
    "        optimizer.zero_grad()\n",
    "        # Forward and backward propagations\n",
    "        log_ps = model(images)\n",
    "        loss = criterion(log_ps, labels)\n",
    "        loss.backward()\n",
    "        optimizer.step()\n",
    "        # Calculate train accuracy\n",
    "        ps = torch.exp(log_ps)\n",
    "        top_p, top_class = ps.topk(1, dim=1)\n",
    "        equals = top_class == labels.view(top_class.shape)\n",
    "        accuracy = torch.mean(equals.type(torch.FloatTensor)).item()\n",
    "        train_losses.append(1-accuracy)\n",
    "        \n",
    "    else:\n",
    "        ## TODO: Implement the validation pass and print out the validation accuracy\n",
    "        # turn off gradients\n",
    "        # Calculate test accuracy with gradient calculation off\n",
    "        with torch.no_grad():\n",
    "            # set model to evaluation mode\n",
    "            model.eval()\n",
    "            # validation pass here\n",
    "            for images, labels in testloader:\n",
    "                ps = torch.exp(model(images))\n",
    "                top_p, top_class = ps.topk(1, dim=1)\n",
    "                equals = top_class == labels.view(top_class.shape)\n",
    "                accuracy = torch.mean(equals.type(torch.FloatTensor)).item()\n",
    "                test_losses.append(1-accuracy)\n",
    "\n",
    "    toc = time.time()\n",
    "    print(\"epoch %2d, runtime %6.3f seconds\" % (e + 1, toc - tic))\n",
    "    train_loss_epoch = torch.mean(torch.tensor(train_losses))\n",
    "    train_loss_epochs.append(train_loss_epoch.item())\n",
    "    #bar print(\"    Training loss   : %5.2f\" % train_loss_epoch)\n",
    "    test_loss_epoch = torch.mean(torch.tensor(test_losses))\n",
    "    test_loss_epochs.append(test_loss_epoch.item())\n",
    "    #bar print(\"    Validation loss : %5.2f\" % test_loss_epoch)"
   ]
  },
  {
   "cell_type": "markdown",
   "metadata": {},
   "source": [
    "GPU runtime:\n",
    "```\n",
    "epoch  1, runtime  6.614 seconds\n",
    "epoch  2, runtime  8.514 seconds\n",
    "epoch  3, runtime  9.279 seconds\n",
    "epoch  4, runtime  8.600 seconds\n",
    "epoch  5, runtime  8.857 seconds\n",
    "epoch  6, runtime  9.680 seconds\n",
    "epoch  7, runtime 10.158 seconds\n",
    "epoch  8, runtime 11.228 seconds\n",
    "epoch  9, runtime 11.042 seconds\n",
    "epoch 10, runtime 11.727 seconds\n",
    "epoch 11, runtime 12.195 seconds\n",
    "epoch 12, runtime 12.045 seconds\n",
    "epoch 13, runtime  9.920 seconds\n",
    "epoch 14, runtime 10.298 seconds\n",
    "epoch 15, runtime 10.679 seconds\n",
    "epoch 16, runtime 11.694 seconds\n",
    "epoch 17, runtime 11.455 seconds\n",
    "epoch 18, runtime 11.397 seconds\n",
    "epoch 19, runtime 11.820 seconds\n",
    "epoch 20, runtime 11.780 seconds\n",
    "epoch 21, runtime 11.258 seconds\n",
    "epoch 22, runtime 11.350 seconds\n",
    "epoch 23, runtime 11.785 seconds\n",
    "epoch 24, runtime 11.872 seconds\n",
    "epoch 25, runtime 11.993 seconds\n",
    "epoch 26, runtime 11.706 seconds\n",
    "epoch 27, runtime 12.107 seconds\n",
    "epoch 28, runtime 12.417 seconds\n",
    "epoch 29, runtime 11.741 seconds\n",
    "epoch 30, runtime 12.224 seconds\n",
    "```"
   ]
  },
  {
   "cell_type": "code",
   "execution_count": 32,
   "metadata": {},
   "outputs": [
    {
     "data": {
      "image/png": "[encoded data removed]",
      "text/plain": [
       "<Figure size 432x288 with 1 Axes>"
      ]
     },
     "metadata": {
      "needs_background": "light"
     },
     "output_type": "display_data"
    }
   ],
   "source": [
    "fig = plt.figure()\n",
    "ax1 = fig.add_subplot(111)\n",
    "\n",
    "y = [i+1 for i in range(epochs)]\n",
    "ax1.plot(y, train_loss_epochs, label='Training loss')\n",
    "ax1.plot(y, test_loss_epochs, label='Testing loss')\n",
    "plt.legend(loc='upper right');\n",
    "\n",
    "plt.ylabel('loss (1 - accuracy)')\n",
    "plt.xlabel('# epoch')\n",
    "plt.show()"
   ]
  },
  {
   "cell_type": "markdown",
   "metadata": {},
   "source": [
    "## Inference\n",
    "\n",
    "Now that the model is trained, we can use it for inference. We've done this before, but now we need to remember to set the model in inference mode with `model.eval()`. You'll also want to turn off autograd with the `torch.no_grad()` context."
   ]
  },
  {
   "cell_type": "code",
   "execution_count": 39,
   "metadata": {},
   "outputs": [
    {
     "data": {
      "image/png": "[encoded data removed]",
      "text/plain": [
       "<Figure size 432x648 with 2 Axes>"
      ]
     },
     "metadata": {
      "needs_background": "light"
     },
     "output_type": "display_data"
    },
    {
     "name": "stderr",
     "output_type": "stream",
     "text": [
      "Process Process-1531:\n",
      "Process Process-1530:\n",
      "Process Process-1535:\n",
      "Process Process-1532:\n",
      "Process Process-1534:\n",
      "Process Process-1526:\n",
      "Process Process-1529:\n",
      "Process Process-1533:\n",
      "Process Process-1536:\n",
      "Process Process-1525:\n",
      "Process Process-1528:\n",
      "Traceback (most recent call last):\n",
      "Process Process-1527:\n",
      "Traceback (most recent call last):\n",
      "Traceback (most recent call last):\n",
      "Traceback (most recent call last):\n",
      "Traceback (most recent call last):\n",
      "  File \"/home/eka/anaconda3/envs/deep-learning/lib/python3.6/multiprocessing/process.py\", line 258, in _bootstrap\n",
      "    self.run()\n",
      "Traceback (most recent call last):\n",
      "  File \"/home/eka/anaconda3/envs/deep-learning/lib/python3.6/multiprocessing/process.py\", line 258, in _bootstrap\n",
      "    self.run()\n",
      "Traceback (most recent call last):\n",
      "Traceback (most recent call last):\n",
      "Traceback (most recent call last):\n",
      "Traceback (most recent call last):\n",
      "  File \"/home/eka/anaconda3/envs/deep-learning/lib/python3.6/multiprocessing/process.py\", line 258, in _bootstrap\n",
      "    self.run()\n",
      "  File \"/home/eka/anaconda3/envs/deep-learning/lib/python3.6/multiprocessing/process.py\", line 258, in _bootstrap\n",
      "    self.run()\n",
      "  File \"/home/eka/anaconda3/envs/deep-learning/lib/python3.6/multiprocessing/process.py\", line 258, in _bootstrap\n",
      "    self.run()\n",
      "Traceback (most recent call last):\n",
      "  File \"/home/eka/anaconda3/envs/deep-learning/lib/python3.6/multiprocessing/process.py\", line 93, in run\n",
      "    self._target(*self._args, **self._kwargs)\n",
      "  File \"/home/eka/anaconda3/envs/deep-learning/lib/python3.6/multiprocessing/process.py\", line 258, in _bootstrap\n",
      "    self.run()\n",
      "  File \"/home/eka/anaconda3/envs/deep-learning/lib/python3.6/multiprocessing/process.py\", line 93, in run\n",
      "    self._target(*self._args, **self._kwargs)\n",
      "  File \"/home/eka/anaconda3/envs/deep-learning/lib/python3.6/multiprocessing/process.py\", line 258, in _bootstrap\n",
      "    self.run()\n",
      "  File \"/home/eka/anaconda3/envs/deep-learning/lib/python3.6/multiprocessing/process.py\", line 258, in _bootstrap\n",
      "    self.run()\n",
      "  File \"/home/eka/anaconda3/envs/deep-learning/lib/python3.6/multiprocessing/process.py\", line 93, in run\n",
      "    self._target(*self._args, **self._kwargs)\n",
      "  File \"/home/eka/anaconda3/envs/deep-learning/lib/python3.6/multiprocessing/process.py\", line 258, in _bootstrap\n",
      "    self.run()\n",
      "  File \"/home/eka/anaconda3/envs/deep-learning/lib/python3.6/multiprocessing/process.py\", line 93, in run\n",
      "    self._target(*self._args, **self._kwargs)\n",
      "  File \"/home/eka/anaconda3/envs/deep-learning/lib/python3.6/multiprocessing/process.py\", line 258, in _bootstrap\n",
      "    self.run()\n",
      "  File \"/home/eka/anaconda3/envs/deep-learning/lib/python3.6/multiprocessing/process.py\", line 93, in run\n",
      "    self._target(*self._args, **self._kwargs)\n",
      "Traceback (most recent call last):\n",
      "  File \"/home/eka/anaconda3/envs/deep-learning/lib/python3.6/multiprocessing/process.py\", line 93, in run\n",
      "    self._target(*self._args, **self._kwargs)\n",
      "  File \"/home/eka/anaconda3/envs/deep-learning/lib/python3.6/multiprocessing/process.py\", line 93, in run\n",
      "    self._target(*self._args, **self._kwargs)\n",
      "  File \"/home/eka/anaconda3/envs/deep-learning/lib/python3.6/site-packages/torch/utils/data/dataloader.py\", line 96, in _worker_loop\n",
      "    r = index_queue.get(timeout=MANAGER_STATUS_CHECK_INTERVAL)\n",
      "  File \"/home/eka/anaconda3/envs/deep-learning/lib/python3.6/site-packages/torch/utils/data/dataloader.py\", line 96, in _worker_loop\n",
      "    r = index_queue.get(timeout=MANAGER_STATUS_CHECK_INTERVAL)\n",
      "  File \"/home/eka/anaconda3/envs/deep-learning/lib/python3.6/multiprocessing/process.py\", line 93, in run\n",
      "    self._target(*self._args, **self._kwargs)\n",
      "  File \"/home/eka/anaconda3/envs/deep-learning/lib/python3.6/multiprocessing/process.py\", line 93, in run\n",
      "    self._target(*self._args, **self._kwargs)\n",
      "  File \"/home/eka/anaconda3/envs/deep-learning/lib/python3.6/site-packages/torch/utils/data/dataloader.py\", line 96, in _worker_loop\n",
      "    r = index_queue.get(timeout=MANAGER_STATUS_CHECK_INTERVAL)\n",
      "  File \"/home/eka/anaconda3/envs/deep-learning/lib/python3.6/multiprocessing/process.py\", line 93, in run\n",
      "    self._target(*self._args, **self._kwargs)\n",
      "  File \"/home/eka/anaconda3/envs/deep-learning/lib/python3.6/site-packages/torch/utils/data/dataloader.py\", line 96, in _worker_loop\n",
      "    r = index_queue.get(timeout=MANAGER_STATUS_CHECK_INTERVAL)\n",
      "  File \"/home/eka/anaconda3/envs/deep-learning/lib/python3.6/multiprocessing/process.py\", line 258, in _bootstrap\n",
      "    self.run()\n",
      "  File \"/home/eka/anaconda3/envs/deep-learning/lib/python3.6/multiprocessing/process.py\", line 93, in run\n",
      "    self._target(*self._args, **self._kwargs)\n",
      "  File \"/home/eka/anaconda3/envs/deep-learning/lib/python3.6/site-packages/torch/utils/data/dataloader.py\", line 96, in _worker_loop\n",
      "    r = index_queue.get(timeout=MANAGER_STATUS_CHECK_INTERVAL)\n",
      "  File \"/home/eka/anaconda3/envs/deep-learning/lib/python3.6/multiprocessing/queues.py\", line 104, in get\n",
      "    if not self._poll(timeout):\n",
      "  File \"/home/eka/anaconda3/envs/deep-learning/lib/python3.6/site-packages/torch/utils/data/dataloader.py\", line 96, in _worker_loop\n",
      "    r = index_queue.get(timeout=MANAGER_STATUS_CHECK_INTERVAL)\n",
      "  File \"/home/eka/anaconda3/envs/deep-learning/lib/python3.6/multiprocessing/queues.py\", line 104, in get\n",
      "    if not self._poll(timeout):\n",
      "  File \"/home/eka/anaconda3/envs/deep-learning/lib/python3.6/multiprocessing/connection.py\", line 257, in poll\n",
      "    return self._poll(timeout)\n",
      "  File \"/home/eka/anaconda3/envs/deep-learning/lib/python3.6/multiprocessing/queues.py\", line 104, in get\n",
      "    if not self._poll(timeout):\n",
      "  File \"/home/eka/anaconda3/envs/deep-learning/lib/python3.6/site-packages/torch/utils/data/dataloader.py\", line 96, in _worker_loop\n",
      "    r = index_queue.get(timeout=MANAGER_STATUS_CHECK_INTERVAL)\n",
      "  File \"/home/eka/anaconda3/envs/deep-learning/lib/python3.6/multiprocessing/connection.py\", line 257, in poll\n",
      "    return self._poll(timeout)\n",
      "  File \"/home/eka/anaconda3/envs/deep-learning/lib/python3.6/multiprocessing/queues.py\", line 104, in get\n",
      "    if not self._poll(timeout):\n",
      "  File \"/home/eka/anaconda3/envs/deep-learning/lib/python3.6/multiprocessing/process.py\", line 258, in _bootstrap\n",
      "    self.run()\n",
      "  File \"/home/eka/anaconda3/envs/deep-learning/lib/python3.6/multiprocessing/queues.py\", line 104, in get\n",
      "    if not self._poll(timeout):\n",
      "  File \"/home/eka/anaconda3/envs/deep-learning/lib/python3.6/site-packages/torch/utils/data/dataloader.py\", line 96, in _worker_loop\n",
      "    r = index_queue.get(timeout=MANAGER_STATUS_CHECK_INTERVAL)\n",
      "  File \"/home/eka/anaconda3/envs/deep-learning/lib/python3.6/multiprocessing/connection.py\", line 257, in poll\n",
      "    return self._poll(timeout)\n",
      "  File \"/home/eka/anaconda3/envs/deep-learning/lib/python3.6/site-packages/torch/utils/data/dataloader.py\", line 96, in _worker_loop\n",
      "    r = index_queue.get(timeout=MANAGER_STATUS_CHECK_INTERVAL)\n",
      "  File \"/home/eka/anaconda3/envs/deep-learning/lib/python3.6/multiprocessing/connection.py\", line 257, in poll\n",
      "    return self._poll(timeout)\n",
      "  File \"/home/eka/anaconda3/envs/deep-learning/lib/python3.6/multiprocessing/connection.py\", line 257, in poll\n",
      "    return self._poll(timeout)\n",
      "  File \"/home/eka/anaconda3/envs/deep-learning/lib/python3.6/multiprocessing/queues.py\", line 104, in get\n",
      "    if not self._poll(timeout):\n",
      "  File \"/home/eka/anaconda3/envs/deep-learning/lib/python3.6/multiprocessing/queues.py\", line 104, in get\n",
      "    if not self._poll(timeout):\n",
      "  File \"/home/eka/anaconda3/envs/deep-learning/lib/python3.6/multiprocessing/queues.py\", line 104, in get\n",
      "    if not self._poll(timeout):\n",
      "  File \"/home/eka/anaconda3/envs/deep-learning/lib/python3.6/multiprocessing/connection.py\", line 414, in _poll\n",
      "    r = wait([self], timeout)\n",
      "  File \"/home/eka/anaconda3/envs/deep-learning/lib/python3.6/multiprocessing/connection.py\", line 414, in _poll\n",
      "    r = wait([self], timeout)\n",
      "  File \"/home/eka/anaconda3/envs/deep-learning/lib/python3.6/multiprocessing/connection.py\", line 257, in poll\n",
      "    return self._poll(timeout)\n",
      "  File \"/home/eka/anaconda3/envs/deep-learning/lib/python3.6/multiprocessing/connection.py\", line 257, in poll\n",
      "    return self._poll(timeout)\n",
      "  File \"/home/eka/anaconda3/envs/deep-learning/lib/python3.6/site-packages/torch/utils/data/dataloader.py\", line 96, in _worker_loop\n",
      "    r = index_queue.get(timeout=MANAGER_STATUS_CHECK_INTERVAL)\n"
     ]
    },
    {
     "name": "stderr",
     "output_type": "stream",
     "text": [
      "  File \"/home/eka/anaconda3/envs/deep-learning/lib/python3.6/multiprocessing/connection.py\", line 414, in _poll\n",
      "    r = wait([self], timeout)\n",
      "  File \"/home/eka/anaconda3/envs/deep-learning/lib/python3.6/multiprocessing/connection.py\", line 414, in _poll\n",
      "    r = wait([self], timeout)\n",
      "  File \"/home/eka/anaconda3/envs/deep-learning/lib/python3.6/multiprocessing/connection.py\", line 414, in _poll\n",
      "    r = wait([self], timeout)\n",
      "  File \"/home/eka/anaconda3/envs/deep-learning/lib/python3.6/multiprocessing/connection.py\", line 414, in _poll\n",
      "    r = wait([self], timeout)\n",
      "  File \"/home/eka/anaconda3/envs/deep-learning/lib/python3.6/selectors.py\", line 376, in select\n",
      "    fd_event_list = self._poll.poll(timeout)\n",
      "  File \"/home/eka/anaconda3/envs/deep-learning/lib/python3.6/multiprocessing/connection.py\", line 414, in _poll\n",
      "    r = wait([self], timeout)\n",
      "  File \"/home/eka/anaconda3/envs/deep-learning/lib/python3.6/multiprocessing/connection.py\", line 911, in wait\n",
      "    ready = selector.select(timeout)\n",
      "  File \"/home/eka/anaconda3/envs/deep-learning/lib/python3.6/multiprocessing/process.py\", line 93, in run\n",
      "    self._target(*self._args, **self._kwargs)\n",
      "  File \"/home/eka/anaconda3/envs/deep-learning/lib/python3.6/multiprocessing/connection.py\", line 911, in wait\n",
      "    ready = selector.select(timeout)\n",
      "  File \"/home/eka/anaconda3/envs/deep-learning/lib/python3.6/multiprocessing/connection.py\", line 911, in wait\n",
      "    ready = selector.select(timeout)\n",
      "  File \"/home/eka/anaconda3/envs/deep-learning/lib/python3.6/selectors.py\", line 376, in select\n",
      "    fd_event_list = self._poll.poll(timeout)\n",
      "  File \"/home/eka/anaconda3/envs/deep-learning/lib/python3.6/multiprocessing/queues.py\", line 104, in get\n",
      "    if not self._poll(timeout):\n",
      "  File \"/home/eka/anaconda3/envs/deep-learning/lib/python3.6/multiprocessing/queues.py\", line 104, in get\n",
      "    if not self._poll(timeout):\n",
      "  File \"/home/eka/anaconda3/envs/deep-learning/lib/python3.6/site-packages/torch/utils/data/dataloader.py\", line 96, in _worker_loop\n",
      "    r = index_queue.get(timeout=MANAGER_STATUS_CHECK_INTERVAL)\n",
      "  File \"/home/eka/anaconda3/envs/deep-learning/lib/python3.6/multiprocessing/connection.py\", line 257, in poll\n",
      "    return self._poll(timeout)\n",
      "  File \"/home/eka/anaconda3/envs/deep-learning/lib/python3.6/multiprocessing/connection.py\", line 911, in wait\n",
      "    ready = selector.select(timeout)\n",
      "KeyboardInterrupt\n",
      "  File \"/home/eka/anaconda3/envs/deep-learning/lib/python3.6/selectors.py\", line 376, in select\n",
      "    fd_event_list = self._poll.poll(timeout)\n",
      "  File \"/home/eka/anaconda3/envs/deep-learning/lib/python3.6/multiprocessing/queues.py\", line 104, in get\n",
      "    if not self._poll(timeout):\n",
      "  File \"/home/eka/anaconda3/envs/deep-learning/lib/python3.6/multiprocessing/connection.py\", line 911, in wait\n",
      "    ready = selector.select(timeout)\n",
      "  File \"/home/eka/anaconda3/envs/deep-learning/lib/python3.6/multiprocessing/connection.py\", line 257, in poll\n",
      "    return self._poll(timeout)\n",
      "  File \"/home/eka/anaconda3/envs/deep-learning/lib/python3.6/selectors.py\", line 376, in select\n",
      "    fd_event_list = self._poll.poll(timeout)\n",
      "  File \"/home/eka/anaconda3/envs/deep-learning/lib/python3.6/multiprocessing/connection.py\", line 414, in _poll\n",
      "    r = wait([self], timeout)\n",
      "KeyboardInterrupt\n",
      "  File \"/home/eka/anaconda3/envs/deep-learning/lib/python3.6/selectors.py\", line 376, in select\n",
      "    fd_event_list = self._poll.poll(timeout)\n",
      "  File \"/home/eka/anaconda3/envs/deep-learning/lib/python3.6/multiprocessing/connection.py\", line 257, in poll\n",
      "    return self._poll(timeout)\n",
      "KeyboardInterrupt\n",
      "  File \"/home/eka/anaconda3/envs/deep-learning/lib/python3.6/multiprocessing/connection.py\", line 911, in wait\n",
      "    ready = selector.select(timeout)\n",
      "KeyboardInterrupt\n",
      "KeyboardInterrupt\n",
      "  File \"/home/eka/anaconda3/envs/deep-learning/lib/python3.6/multiprocessing/connection.py\", line 257, in poll\n",
      "    return self._poll(timeout)\n",
      "  File \"/home/eka/anaconda3/envs/deep-learning/lib/python3.6/multiprocessing/connection.py\", line 911, in wait\n",
      "    ready = selector.select(timeout)\n",
      "  File \"/home/eka/anaconda3/envs/deep-learning/lib/python3.6/multiprocessing/connection.py\", line 911, in wait\n",
      "    ready = selector.select(timeout)\n",
      "  File \"/home/eka/anaconda3/envs/deep-learning/lib/python3.6/multiprocessing/connection.py\", line 414, in _poll\n",
      "    r = wait([self], timeout)\n",
      "  File \"/home/eka/anaconda3/envs/deep-learning/lib/python3.6/site-packages/torch/utils/data/dataloader.py\", line 96, in _worker_loop\n",
      "    r = index_queue.get(timeout=MANAGER_STATUS_CHECK_INTERVAL)\n",
      "  File \"/home/eka/anaconda3/envs/deep-learning/lib/python3.6/multiprocessing/connection.py\", line 414, in _poll\n",
      "    r = wait([self], timeout)\n",
      "  File \"/home/eka/anaconda3/envs/deep-learning/lib/python3.6/multiprocessing/connection.py\", line 414, in _poll\n",
      "    r = wait([self], timeout)\n",
      "  File \"/home/eka/anaconda3/envs/deep-learning/lib/python3.6/multiprocessing/queues.py\", line 104, in get\n",
      "    if not self._poll(timeout):\n",
      "  File \"/home/eka/anaconda3/envs/deep-learning/lib/python3.6/selectors.py\", line 376, in select\n",
      "    fd_event_list = self._poll.poll(timeout)\n",
      "  File \"/home/eka/anaconda3/envs/deep-learning/lib/python3.6/selectors.py\", line 376, in select\n",
      "    fd_event_list = self._poll.poll(timeout)\n",
      "  File \"/home/eka/anaconda3/envs/deep-learning/lib/python3.6/selectors.py\", line 376, in select\n",
      "    fd_event_list = self._poll.poll(timeout)\n",
      "KeyboardInterrupt\n",
      "  File \"/home/eka/anaconda3/envs/deep-learning/lib/python3.6/multiprocessing/connection.py\", line 257, in poll\n",
      "    return self._poll(timeout)\n",
      "  File \"/home/eka/anaconda3/envs/deep-learning/lib/python3.6/multiprocessing/connection.py\", line 414, in _poll\n",
      "    r = wait([self], timeout)\n",
      "  File \"/home/eka/anaconda3/envs/deep-learning/lib/python3.6/multiprocessing/connection.py\", line 911, in wait\n",
      "    ready = selector.select(timeout)\n",
      "KeyboardInterrupt\n",
      "KeyboardInterrupt\n",
      "  File \"/home/eka/anaconda3/envs/deep-learning/lib/python3.6/multiprocessing/connection.py\", line 911, in wait\n",
      "    ready = selector.select(timeout)\n",
      "  File \"/home/eka/anaconda3/envs/deep-learning/lib/python3.6/multiprocessing/connection.py\", line 911, in wait\n",
      "    ready = selector.select(timeout)\n",
      "  File \"/home/eka/anaconda3/envs/deep-learning/lib/python3.6/multiprocessing/connection.py\", line 911, in wait\n",
      "    ready = selector.select(timeout)\n",
      "  File \"/home/eka/anaconda3/envs/deep-learning/lib/python3.6/selectors.py\", line 376, in select\n",
      "    fd_event_list = self._poll.poll(timeout)\n",
      "  File \"/home/eka/anaconda3/envs/deep-learning/lib/python3.6/selectors.py\", line 376, in select\n",
      "    fd_event_list = self._poll.poll(timeout)\n",
      "  File \"/home/eka/anaconda3/envs/deep-learning/lib/python3.6/selectors.py\", line 376, in select\n",
      "    fd_event_list = self._poll.poll(timeout)\n",
      "KeyboardInterrupt\n",
      "  File \"/home/eka/anaconda3/envs/deep-learning/lib/python3.6/selectors.py\", line 376, in select\n",
      "    fd_event_list = self._poll.poll(timeout)\n",
      "KeyboardInterrupt\n",
      "KeyboardInterrupt\n",
      "KeyboardInterrupt\n"
     ]
    }
   ],
   "source": [
    "# Import helper module (should be in the repo)\n",
    "import helper\n",
    "\n",
    "# Test out your network!\n",
    "\n",
    "model.eval()\n",
    "\n",
    "dataiter = iter(testloader)\n",
    "images, labels = dataiter.next()\n",
    "img = images[0]\n",
    "# Convert 2D image to 1D vector\n",
    "img = img.view(1, 784)\n",
    "\n",
    "# Calculate the class probabilities (softmax) for img\n",
    "with torch.no_grad():\n",
    "    output = model.forward(img)\n",
    "\n",
    "ps = torch.exp(output)\n",
    "\n",
    "# Plot the image and probabilities\n",
    "helper.view_classify(img.view(1, 28, 28), ps, version='Fashion')"
   ]
  },
  {
   "cell_type": "markdown",
   "metadata": {},
   "source": [
    "## Next Up!\n",
    "\n",
    "In the next part, I'll show you how to save your trained models. In general, you won't want to train a model everytime you need it. Instead, you'll train once, save it, then load the model when you want to train more or use if for inference."
   ]
  }
 ],
 "metadata": {
  "kernelspec": {
   "display_name": "Python 3",
   "language": "python",
   "name": "python3"
  },
  "language_info": {
   "codemirror_mode": {
    "name": "ipython",
    "version": 3
   },
   "file_extension": ".py",
   "mimetype": "text/x-python",
   "name": "python",
   "nbconvert_exporter": "python",
   "pygments_lexer": "ipython3",
   "version": "3.6.7"
  }
 },
 "nbformat": 4,
 "nbformat_minor": 2
}
