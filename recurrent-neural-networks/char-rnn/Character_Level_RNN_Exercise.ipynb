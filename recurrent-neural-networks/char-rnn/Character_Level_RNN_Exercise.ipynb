{
 "cells": [
  {
   "cell_type": "markdown",
   "metadata": {},
   "source": [
    "# Character-Level LSTM in PyTorch\n",
    "\n",
    "In this notebook, I'll construct a character-level LSTM with PyTorch. The network will train character by character on some text, then generate new text character by character. As an example, I will train on Anna Karenina. **This model will be able to generate new text based on the text from the book!**\n",
    "\n",
    "This network is based off of Andrej Karpathy's [post on RNNs](http://karpathy.github.io/2015/05/21/rnn-effectiveness/) and [implementation in Torch](https://github.com/karpathy/char-rnn). Below is the general architecture of the character-wise RNN.\n",
    "\n",
    "<img src=\"assets/charseq.jpeg\" width=\"500\">"
   ]
  },
  {
   "cell_type": "markdown",
   "metadata": {},
   "source": [
    "First let's load in our required resources for data loading and model creation."
   ]
  },
  {
   "cell_type": "code",
   "execution_count": 1,
   "metadata": {},
   "outputs": [],
   "source": [
    "import numpy as np\n",
    "import torch\n",
    "from torch import nn\n",
    "import torch.nn.functional as F"
   ]
  },
  {
   "cell_type": "markdown",
   "metadata": {},
   "source": [
    "## Load in Data\n",
    "\n",
    "Then, we'll load the Anna Karenina text file and convert it into integers for our network to use. "
   ]
  },
  {
   "cell_type": "code",
   "execution_count": 2,
   "metadata": {},
   "outputs": [],
   "source": [
    "# open text file and read in data as `text`\n",
    "with open('data/anna.txt', 'r') as f:\n",
    "    text = f.read()"
   ]
  },
  {
   "cell_type": "markdown",
   "metadata": {},
   "source": [
    "Let's check out the first 100 characters, make sure everything is peachy. According to the [American Book Review](http://americanbookreview.org/100bestlines.asp), this is the 6th best first line of a book ever."
   ]
  },
  {
   "cell_type": "code",
   "execution_count": 3,
   "metadata": {},
   "outputs": [
    {
     "data": {
      "text/plain": [
       "'Chapter 1\\n\\n\\nHappy families are all alike; every unhappy family is unhappy in its own\\nway.\\n\\nEverythin'"
      ]
     },
     "execution_count": 3,
     "metadata": {},
     "output_type": "execute_result"
    }
   ],
   "source": [
    "text[:100]"
   ]
  },
  {
   "cell_type": "markdown",
   "metadata": {},
   "source": [
    "### Tokenization\n",
    "\n",
    "In the cells, below, I'm creating a couple **dictionaries** to convert the characters to and from integers. Encoding the characters as integers makes it easier to use as input in the network."
   ]
  },
  {
   "cell_type": "code",
   "execution_count": 4,
   "metadata": {},
   "outputs": [],
   "source": [
    "# encode the text and map each character to an integer and vice versa\n",
    "\n",
    "# we create two dictionaries:\n",
    "# 1. int2char, which maps integers to characters\n",
    "# 2. char2int, which maps characters to unique integers\n",
    "chars = tuple(set(text))\n",
    "int2char = dict(enumerate(chars))\n",
    "char2int = {ch: ii for ii, ch in int2char.items()}\n",
    "\n",
    "# encode the text\n",
    "encoded = np.array([char2int[ch] for ch in text])"
   ]
  },
  {
   "cell_type": "code",
   "execution_count": 6,
   "metadata": {},
   "outputs": [
    {
     "data": {
      "text/plain": [
       "83"
      ]
     },
     "execution_count": 6,
     "metadata": {},
     "output_type": "execute_result"
    }
   ],
   "source": [
    "len(chars)"
   ]
  },
  {
   "cell_type": "markdown",
   "metadata": {},
   "source": [
    "And we can see those same characters from above, encoded as integers."
   ]
  },
  {
   "cell_type": "code",
   "execution_count": 5,
   "metadata": {},
   "outputs": [
    {
     "data": {
      "text/plain": [
       "array([22, 45, 25, 32, 34, 59,  1, 68, 15, 51, 51, 51, 24, 25, 32, 32, 76,\n",
       "       68, 38, 25,  3, 37, 31, 37, 59, 80, 68, 25,  1, 59, 68, 25, 31, 31,\n",
       "       68, 25, 31, 37, 61, 59, 39, 68, 59, 62, 59,  1, 76, 68, 33, 73, 45,\n",
       "       25, 32, 32, 76, 68, 38, 25,  3, 37, 31, 76, 68, 37, 80, 68, 33, 73,\n",
       "       45, 25, 32, 32, 76, 68, 37, 73, 68, 37, 34, 80, 68, 72, 46, 73, 51,\n",
       "       46, 25, 76, 14, 51, 51, 21, 62, 59,  1, 76, 34, 45, 37, 73])"
      ]
     },
     "execution_count": 5,
     "metadata": {},
     "output_type": "execute_result"
    }
   ],
   "source": [
    "encoded[:100]"
   ]
  },
  {
   "cell_type": "markdown",
   "metadata": {},
   "source": [
    "## Pre-processing the data\n",
    "\n",
    "As you can see in our char-RNN image above, our LSTM expects an input that is **one-hot encoded** meaning that each character is converted into an integer (via our created dictionary) and *then* converted into a column vector where only it's corresponding integer index will have the value of 1 and the rest of the vector will be filled with 0's. Since we're one-hot encoding the data, let's make a function to do that!\n"
   ]
  },
  {
   "cell_type": "code",
   "execution_count": 7,
   "metadata": {},
   "outputs": [],
   "source": [
    "def one_hot_encode(arr, n_labels):\n",
    "    \n",
    "    # Initialize the the encoded array\n",
    "    one_hot = np.zeros((np.multiply(*arr.shape), n_labels), dtype=np.float32)\n",
    "    \n",
    "    # Fill the appropriate elements with ones\n",
    "    one_hot[np.arange(one_hot.shape[0]), arr.flatten()] = 1.\n",
    "    \n",
    "    # Finally reshape it to get back to the original array\n",
    "    one_hot = one_hot.reshape((*arr.shape, n_labels))\n",
    "    \n",
    "    return one_hot"
   ]
  },
  {
   "cell_type": "code",
   "execution_count": 8,
   "metadata": {},
   "outputs": [
    {
     "name": "stdout",
     "output_type": "stream",
     "text": [
      "[[[0. 0. 0. 1. 0. 0. 0. 0.]\n",
      "  [0. 0. 0. 0. 0. 1. 0. 0.]\n",
      "  [0. 1. 0. 0. 0. 0. 0. 0.]]]\n"
     ]
    }
   ],
   "source": [
    "# check that the function works as expected\n",
    "test_seq = np.array([[3, 5, 1]])\n",
    "one_hot = one_hot_encode(test_seq, 8)\n",
    "\n",
    "print(one_hot)"
   ]
  },
  {
   "cell_type": "markdown",
   "metadata": {},
   "source": [
    "## Making training mini-batches\n",
    "\n",
    "\n",
    "To train on this data, we also want to create mini-batches for training. Remember that we want our batches to be multiple sequences of some desired number of sequence steps. Considering a simple example, our batches would look like this:\n",
    "\n",
    "<img src=\"assets/sequence_batching@1x.png\" width=500px>\n",
    "\n",
    "\n",
    "<br>\n",
    "\n",
    "In this example, we'll take the encoded characters (passed in as the `arr` parameter) and split them into multiple sequences, given by `batch_size`. Each of our sequences will be `seq_length` long.\n",
    "\n",
    "### Creating Batches\n",
    "\n",
    "**1. The first thing we need to do is discard some of the text so we only have completely full mini-batches. **\n",
    "\n",
    "Each batch contains $N \\times M$ characters, where $N$ is the batch size (the number of sequences in a batch) and $M$ is the seq_length or number of time steps in a sequence. Then, to get the total number of batches, $K$, that we can make from the array `arr`, you divide the length of `arr` by the number of characters per batch. Once you know the number of batches, you can get the total number of characters to keep from `arr`, $N * M * K$.\n",
    "\n",
    "**2. After that, we need to split `arr` into $N$ batches. ** \n",
    "\n",
    "You can do this using `arr.reshape(size)` where `size` is a tuple containing the dimensions sizes of the reshaped array. We know we want $N$ sequences in a batch, so let's make that the size of the first dimension. For the second dimension, you can use `-1` as a placeholder in the size, it'll fill up the array with the appropriate data for you. After this, you should have an array that is $N \\times (M * K)$.\n",
    "\n",
    "**3. Now that we have this array, we can iterate through it to get our mini-batches. **\n",
    "\n",
    "The idea is each batch is a $N \\times M$ window on the $N \\times (M * K)$ array. For each subsequent batch, the window moves over by `seq_length`. We also want to create both the input and target arrays. Remember that the targets are just the inputs shifted over by one character. The way I like to do this window is use `range` to take steps of size `n_steps` from $0$ to `arr.shape[1]`, the total number of tokens in each sequence. That way, the integers you get from `range` always point to the start of a batch, and each window is `seq_length` wide.\n",
    "\n",
    "> **TODO:** Write the code for creating batches in the function below. The exercises in this notebook _will not be easy_. I've provided a notebook with solutions alongside this notebook. If you get stuck, checkout the solutions. The most important thing is that you don't copy and paste the code into here, **type out the solution code yourself.**"
   ]
  },
  {
   "cell_type": "code",
   "execution_count": 212,
   "metadata": {},
   "outputs": [],
   "source": [
    "def get_batches(arr, batch_size, seq_length):\n",
    "    '''Create a generator that returns batches of size\n",
    "       batch_size x seq_length from arr.\n",
    "       \n",
    "       Arguments\n",
    "       ---------\n",
    "       arr: Array you want to make batches from\n",
    "       batch_size: Batch size, the number of sequences per batch\n",
    "       seq_length: Number of encoded chars in a sequence\n",
    "    '''\n",
    "    \n",
    "    ## TODO: Get the number of batches we can make\n",
    "    arr_len = len(arr)\n",
    "    # since y will be x shifted by one, add batch_size as padding for every batch\n",
    "    n_batches = arr_len - (arr_len % (batch_size * seq_length)) + batch_size\n",
    "    \n",
    "    ## TODO: Keep only enough characters to make full batches\n",
    "    arr = arr[:n_batches]\n",
    "    \n",
    "    ## TODO: Reshape into batch_size rows\n",
    "    arr = np.reshape(arr, (batch_size, int(n_batches / batch_size)))\n",
    "    \n",
    "    ## TODO: Iterate over the batches using a window of size seq_length\n",
    "    for n in range(0, arr.shape[1]-1, seq_length):\n",
    "        # The features\n",
    "        x = arr[:, n:n+seq_length]\n",
    "        # The targets, shifted by one\n",
    "        y = arr[:, n+1:n+seq_length+1]\n",
    "        yield x, y"
   ]
  },
  {
   "cell_type": "markdown",
   "metadata": {},
   "source": [
    "### Test Your Implementation\n",
    "\n",
    "Now I'll make some data sets and we can check out what's going on as we batch data. Here, as an example, I'm going to use a batch size of 8 and 50 sequence steps."
   ]
  },
  {
   "cell_type": "code",
   "execution_count": 213,
   "metadata": {},
   "outputs": [],
   "source": [
    "batches = get_batches(encoded, 8, 50)\n",
    "x, y = next(batches)"
   ]
  },
  {
   "cell_type": "code",
   "execution_count": 214,
   "metadata": {},
   "outputs": [
    {
     "data": {
      "text/plain": [
       "(8, 50)"
      ]
     },
     "execution_count": 214,
     "metadata": {},
     "output_type": "execute_result"
    }
   ],
   "source": [
    "x.shape"
   ]
  },
  {
   "cell_type": "code",
   "execution_count": 215,
   "metadata": {},
   "outputs": [
    {
     "data": {
      "text/plain": [
       "(8, 50)"
      ]
     },
     "execution_count": 215,
     "metadata": {},
     "output_type": "execute_result"
    }
   ],
   "source": [
    "y.shape"
   ]
  },
  {
   "cell_type": "code",
   "execution_count": 216,
   "metadata": {},
   "outputs": [
    {
     "name": "stdout",
     "output_type": "stream",
     "text": [
      "x\n",
      " [[22 45 25 32 34 59  1 68 15 51]\n",
      " [72 73 68 34 45 25 34 68 25 34]\n",
      " [67 68 72  1 68 25 68 38 72 59]\n",
      " [45 59 68 53 45 37 59 38 68 34]\n",
      " [68 45 59  1 68 34 59 25  1 79]\n",
      " [72 73 68 25 73 67 68 25 73 25]\n",
      " [45 25 67 68 80 25 37 67 68 34]\n",
      " [76 14 68  0 77 33 34 68 52 34]]\n",
      "\n",
      "y\n",
      " [[45 25 32 34 59  1 68 15 51 51]\n",
      " [73 68 34 45 25 34 68 25 34 34]\n",
      " [68 72  1 68 25 68 38 72 59  8]\n",
      " [59 68 53 45 37 59 38 68 34 45]\n",
      " [45 59  1 68 34 59 25  1 79 80]\n",
      " [73 68 25 73 67 68 25 73 25 31]\n",
      " [25 67 68 80 25 37 67 68 34 45]\n",
      " [14 68  0 77 33 34 68 52 34 45]]\n"
     ]
    }
   ],
   "source": [
    "# printing out the first 10 items in a sequence\n",
    "print('x\\n', x[:10, :10])\n",
    "print('\\ny\\n', y[:10, :10])"
   ]
  },
  {
   "cell_type": "markdown",
   "metadata": {},
   "source": [
    "If you implemented `get_batches` correctly, the above output should look something like \n",
    "```\n",
    "x\n",
    " [[25  8 60 11 45 27 28 73  1  2]\n",
    " [17  7 20 73 45  8 60 45 73 60]\n",
    " [27 20 80 73  7 28 73 60 73 65]\n",
    " [17 73 45  8 27 73 66  8 46 27]\n",
    " [73 17 60 12 73  8 27 28 73 45]\n",
    " [66 64 17 17 46  7 20 73 60 20]\n",
    " [73 76 20 20 60 73  8 60 80 73]\n",
    " [47 35 43  7 20 17 24 50 37 73]]\n",
    "\n",
    "y\n",
    " [[ 8 60 11 45 27 28 73  1  2  2]\n",
    " [ 7 20 73 45  8 60 45 73 60 45]\n",
    " [20 80 73  7 28 73 60 73 65  7]\n",
    " [73 45  8 27 73 66  8 46 27 65]\n",
    " [17 60 12 73  8 27 28 73 45 27]\n",
    " [64 17 17 46  7 20 73 60 20 80]\n",
    " [76 20 20 60 73  8 60 80 73 17]\n",
    " [35 43  7 20 17 24 50 37 73 36]]\n",
    " ```\n",
    " although the exact numbers may be different. Check to make sure the data is shifted over one step for `y`."
   ]
  },
  {
   "cell_type": "code",
   "execution_count": 217,
   "metadata": {},
   "outputs": [],
   "source": [
    "for x,y in batches:\n",
    "    pass"
   ]
  },
  {
   "cell_type": "code",
   "execution_count": 218,
   "metadata": {},
   "outputs": [
    {
     "data": {
      "text/plain": [
       "(8, 50)"
      ]
     },
     "execution_count": 218,
     "metadata": {},
     "output_type": "execute_result"
    }
   ],
   "source": [
    "x.shape"
   ]
  },
  {
   "cell_type": "code",
   "execution_count": 219,
   "metadata": {},
   "outputs": [
    {
     "data": {
      "text/plain": [
       "(8, 50)"
      ]
     },
     "execution_count": 219,
     "metadata": {},
     "output_type": "execute_result"
    }
   ],
   "source": [
    "y.shape"
   ]
  },
  {
   "cell_type": "code",
   "execution_count": 220,
   "metadata": {},
   "outputs": [
    {
     "data": {
      "text/plain": [
       "4963"
      ]
     },
     "execution_count": 220,
     "metadata": {},
     "output_type": "execute_result"
    }
   ],
   "source": [
    "batches = get_batches(encoded, 8, 50)\n",
    "ttl_batches = 0\n",
    "for x,y in batches:\n",
    "    ttl_batches += 1\n",
    "ttl_batches"
   ]
  },
  {
   "cell_type": "code",
   "execution_count": 221,
   "metadata": {},
   "outputs": [
    {
     "data": {
      "text/plain": [
       "4963.0575"
      ]
     },
     "execution_count": 221,
     "metadata": {},
     "output_type": "execute_result"
    }
   ],
   "source": [
    "len(encoded) / (8 * 50)"
   ]
  },
  {
   "cell_type": "markdown",
   "metadata": {},
   "source": [
    "---\n",
    "## Defining the network with PyTorch\n",
    "\n",
    "Below is where you'll define the network.\n",
    "\n",
    "<img src=\"assets/charRNN.png\" width=500px>\n",
    "\n",
    "Next, you'll use PyTorch to define the architecture of the network. We start by defining the layers and operations we want. Then, define a method for the forward pass. You've also been given a method for predicting characters."
   ]
  },
  {
   "cell_type": "markdown",
   "metadata": {},
   "source": [
    "### Model Structure\n",
    "\n",
    "In `__init__` the suggested structure is as follows:\n",
    "* Create and store the necessary dictionaries (this has been done for you)\n",
    "* Define an LSTM layer that takes as params: an input size (the number of characters), a hidden layer size `n_hidden`, a number of layers `n_layers`, a dropout probability `drop_prob`, and a batch_first boolean (True, since we are batching)\n",
    "* Define a dropout layer with `dropout_prob`\n",
    "* Define a fully-connected layer with params: input size `n_hidden` and output size (the number of characters)\n",
    "* Finally, initialize the weights (again, this has been given)\n",
    "\n",
    "Note that some parameters have been named and given in the `__init__` function, and we use them and store them by doing something like `self.drop_prob = drop_prob`."
   ]
  },
  {
   "cell_type": "markdown",
   "metadata": {},
   "source": [
    "---\n",
    "### LSTM Inputs/Outputs\n",
    "\n",
    "You can create a basic [LSTM layer](https://pytorch.org/docs/stable/nn.html#lstm) as follows\n",
    "\n",
    "```python\n",
    "self.lstm = nn.LSTM(input_size, n_hidden, n_layers, \n",
    "                            dropout=drop_prob, batch_first=True)\n",
    "```\n",
    "\n",
    "where `input_size` is the number of characters this cell expects to see as sequential input, and `n_hidden` is the number of units in the hidden layers in the cell. And we can add dropout by adding a dropout parameter with a specified probability; this will automatically add dropout to the inputs or outputs. Finally, in the `forward` function, we can stack up the LSTM cells into layers using `.view`. With this, you pass in a list of cells and it will send the output of one cell into the next cell.\n",
    "\n",
    "We also need to create an initial hidden state of all zeros. This is done like so\n",
    "\n",
    "```python\n",
    "self.init_hidden()\n",
    "```"
   ]
  },
  {
   "cell_type": "code",
   "execution_count": 94,
   "metadata": {},
   "outputs": [
    {
     "name": "stdout",
     "output_type": "stream",
     "text": [
      "Training on GPU!\n"
     ]
    }
   ],
   "source": [
    "# check if GPU is available\n",
    "train_on_gpu = torch.cuda.is_available()\n",
    "if(train_on_gpu):\n",
    "    print('Training on GPU!')\n",
    "else:\n",
    "    print('No GPU available, training on CPU; consider making n_epochs very small.')"
   ]
  },
  {
   "cell_type": "code",
   "execution_count": 222,
   "metadata": {},
   "outputs": [],
   "source": [
    "class CharRNN(nn.Module):\n",
    "    \n",
    "    def __init__(self, tokens, n_hidden=256, n_layers=2, \\\n",
    "                 drop_prob=0.5, lr=0.001):\n",
    "        super().__init__()\n",
    "        self.drop_prob = drop_prob\n",
    "        self.n_layers = n_layers\n",
    "        self.n_hidden = n_hidden\n",
    "        self.lr = lr\n",
    "        \n",
    "        # creating character dictionaries\n",
    "        self.chars = tokens\n",
    "        self.int2char = dict(enumerate(self.chars))\n",
    "        self.char2int = {ch: ii for ii, ch in self.int2char.items()}\n",
    "        \n",
    "        ## TODO: define the layers of the model\n",
    "        self.lstm = nn.LSTM(len(self.chars), self.n_hidden, self.n_layers, \n",
    "                            dropout=self.drop_prob, batch_first=True)\n",
    "        self.dropout = nn.Dropout(self.drop_prob)\n",
    "        self.fc = nn.Linear(self.n_hidden, len(self.chars))\n",
    "        \n",
    "    \n",
    "    def forward(self, x, hidden):\n",
    "        ''' Forward pass through the network. \n",
    "            These inputs are x, and the hidden/cell state `hidden`. '''\n",
    "                \n",
    "        ## TODO: Get the outputs and the new hidden state from the lstm\n",
    "        # x (batch_size, seq_length)\n",
    "        out, hidden = self.lstm(x, hidden)\n",
    "        out = self.dropout(out)\n",
    "        out = out.contiguous().view(-1, self.n_hidden)\n",
    "        out = self.fc(out)\n",
    "        \n",
    "        # return the final output and the hidden state\n",
    "        return out, hidden\n",
    "    \n",
    "    \n",
    "    def init_hidden(self, batch_size):\n",
    "        ''' Initializes hidden state '''\n",
    "        # Create two new tensors with sizes n_layers x batch_size x n_hidden,\n",
    "        # initialized to zero, for hidden state and cell state of LSTM\n",
    "        weight = next(self.parameters()).data\n",
    "        \n",
    "        if (train_on_gpu):\n",
    "            hidden = (weight.new(self.n_layers, batch_size, self.n_hidden).zero_().cuda(),\n",
    "                      weight.new(self.n_layers, batch_size, self.n_hidden).zero_().cuda())\n",
    "        else:\n",
    "            hidden = (weight.new(self.n_layers, batch_size, self.n_hidden).zero_(),\n",
    "                      weight.new(self.n_layers, batch_size, self.n_hidden).zero_())\n",
    "        \n",
    "        return hidden\n",
    "        "
   ]
  },
  {
   "cell_type": "markdown",
   "metadata": {},
   "source": [
    "## Time to train\n",
    "\n",
    "The train function gives us the ability to set the number of epochs, the learning rate, and other parameters.\n",
    "\n",
    "Below we're using an Adam optimizer and cross entropy loss since we are looking at character class scores as output. We calculate the loss and perform backpropagation, as usual!\n",
    "\n",
    "A couple of details about training: \n",
    ">* Within the batch loop, we detach the hidden state from its history; this time setting it equal to a new *tuple* variable because an LSTM has a hidden state that is a tuple of the hidden and cell states.\n",
    "* We use [`clip_grad_norm_`](https://pytorch.org/docs/stable/_modules/torch/nn/utils/clip_grad.html) to help prevent exploding gradients."
   ]
  },
  {
   "cell_type": "code",
   "execution_count": 135,
   "metadata": {},
   "outputs": [
    {
     "name": "stdout",
     "output_type": "stream",
     "text": [
      "CharRNN(\n",
      "  (lstm): LSTM(83, 256, num_layers=2, batch_first=True, dropout=0.5)\n",
      "  (dropout): Dropout(p=0.5)\n",
      "  (fc): Linear(in_features=256, out_features=83, bias=True)\n",
      ")\n"
     ]
    }
   ],
   "source": [
    "net = CharRNN(chars, 256, 2)\n",
    "print(net)"
   ]
  },
  {
   "cell_type": "code",
   "execution_count": 136,
   "metadata": {},
   "outputs": [
    {
     "data": {
      "text/plain": [
       "(tensor([[[0., 0., 0.,  ..., 0., 0., 0.],\n",
       "          [0., 0., 0.,  ..., 0., 0., 0.],\n",
       "          [0., 0., 0.,  ..., 0., 0., 0.],\n",
       "          ...,\n",
       "          [0., 0., 0.,  ..., 0., 0., 0.],\n",
       "          [0., 0., 0.,  ..., 0., 0., 0.],\n",
       "          [0., 0., 0.,  ..., 0., 0., 0.]],\n",
       " \n",
       "         [[0., 0., 0.,  ..., 0., 0., 0.],\n",
       "          [0., 0., 0.,  ..., 0., 0., 0.],\n",
       "          [0., 0., 0.,  ..., 0., 0., 0.],\n",
       "          ...,\n",
       "          [0., 0., 0.,  ..., 0., 0., 0.],\n",
       "          [0., 0., 0.,  ..., 0., 0., 0.],\n",
       "          [0., 0., 0.,  ..., 0., 0., 0.]]], device='cuda:0'),\n",
       " tensor([[[0., 0., 0.,  ..., 0., 0., 0.],\n",
       "          [0., 0., 0.,  ..., 0., 0., 0.],\n",
       "          [0., 0., 0.,  ..., 0., 0., 0.],\n",
       "          ...,\n",
       "          [0., 0., 0.,  ..., 0., 0., 0.],\n",
       "          [0., 0., 0.,  ..., 0., 0., 0.],\n",
       "          [0., 0., 0.,  ..., 0., 0., 0.]],\n",
       " \n",
       "         [[0., 0., 0.,  ..., 0., 0., 0.],\n",
       "          [0., 0., 0.,  ..., 0., 0., 0.],\n",
       "          [0., 0., 0.,  ..., 0., 0., 0.],\n",
       "          ...,\n",
       "          [0., 0., 0.,  ..., 0., 0., 0.],\n",
       "          [0., 0., 0.,  ..., 0., 0., 0.],\n",
       "          [0., 0., 0.,  ..., 0., 0., 0.]]], device='cuda:0'))"
      ]
     },
     "execution_count": 136,
     "metadata": {},
     "output_type": "execute_result"
    }
   ],
   "source": [
    "h0 = net.init_hidden(10)\n",
    "h0"
   ]
  },
  {
   "cell_type": "code",
   "execution_count": 115,
   "metadata": {},
   "outputs": [
    {
     "data": {
      "text/plain": [
       "(tensor([[[0., 0., 0.,  ..., 0., 0., 0.],\n",
       "          [0., 0., 0.,  ..., 0., 0., 0.],\n",
       "          [0., 0., 0.,  ..., 0., 0., 0.],\n",
       "          ...,\n",
       "          [0., 0., 0.,  ..., 0., 0., 0.],\n",
       "          [0., 0., 0.,  ..., 0., 0., 0.],\n",
       "          [0., 0., 0.,  ..., 0., 0., 0.]],\n",
       " \n",
       "         [[0., 0., 0.,  ..., 0., 0., 0.],\n",
       "          [0., 0., 0.,  ..., 0., 0., 0.],\n",
       "          [0., 0., 0.,  ..., 0., 0., 0.],\n",
       "          ...,\n",
       "          [0., 0., 0.,  ..., 0., 0., 0.],\n",
       "          [0., 0., 0.,  ..., 0., 0., 0.],\n",
       "          [0., 0., 0.,  ..., 0., 0., 0.]]], device='cuda:0'),\n",
       " tensor([[[0., 0., 0.,  ..., 0., 0., 0.],\n",
       "          [0., 0., 0.,  ..., 0., 0., 0.],\n",
       "          [0., 0., 0.,  ..., 0., 0., 0.],\n",
       "          ...,\n",
       "          [0., 0., 0.,  ..., 0., 0., 0.],\n",
       "          [0., 0., 0.,  ..., 0., 0., 0.],\n",
       "          [0., 0., 0.,  ..., 0., 0., 0.]],\n",
       " \n",
       "         [[0., 0., 0.,  ..., 0., 0., 0.],\n",
       "          [0., 0., 0.,  ..., 0., 0., 0.],\n",
       "          [0., 0., 0.,  ..., 0., 0., 0.],\n",
       "          ...,\n",
       "          [0., 0., 0.,  ..., 0., 0., 0.],\n",
       "          [0., 0., 0.,  ..., 0., 0., 0.],\n",
       "          [0., 0., 0.,  ..., 0., 0., 0.]]], device='cuda:0'))"
      ]
     },
     "execution_count": 115,
     "metadata": {},
     "output_type": "execute_result"
    }
   ],
   "source": [
    "h1 = tuple([each.data for each in h])\n",
    "h1"
   ]
  },
  {
   "cell_type": "code",
   "execution_count": 127,
   "metadata": {},
   "outputs": [
    {
     "data": {
      "text/plain": [
       "tuple"
      ]
     },
     "execution_count": 127,
     "metadata": {},
     "output_type": "execute_result"
    }
   ],
   "source": [
    "type(h0)"
   ]
  },
  {
   "cell_type": "code",
   "execution_count": 126,
   "metadata": {},
   "outputs": [
    {
     "data": {
      "text/plain": [
       "2"
      ]
     },
     "execution_count": 126,
     "metadata": {},
     "output_type": "execute_result"
    }
   ],
   "source": [
    "len(h0)"
   ]
  },
  {
   "cell_type": "code",
   "execution_count": 123,
   "metadata": {},
   "outputs": [
    {
     "data": {
      "text/plain": [
       "torch.Size([2, 10, 256])"
      ]
     },
     "execution_count": 123,
     "metadata": {},
     "output_type": "execute_result"
    }
   ],
   "source": [
    "h0[0].shape"
   ]
  },
  {
   "cell_type": "code",
   "execution_count": 128,
   "metadata": {},
   "outputs": [
    {
     "data": {
      "text/plain": [
       "tuple"
      ]
     },
     "execution_count": 128,
     "metadata": {},
     "output_type": "execute_result"
    }
   ],
   "source": [
    "type(h1)"
   ]
  },
  {
   "cell_type": "code",
   "execution_count": 124,
   "metadata": {},
   "outputs": [
    {
     "data": {
      "text/plain": [
       "2"
      ]
     },
     "execution_count": 124,
     "metadata": {},
     "output_type": "execute_result"
    }
   ],
   "source": [
    "len(h1)"
   ]
  },
  {
   "cell_type": "code",
   "execution_count": 129,
   "metadata": {},
   "outputs": [
    {
     "data": {
      "text/plain": [
       "torch.Size([2, 10, 256])"
      ]
     },
     "execution_count": 129,
     "metadata": {},
     "output_type": "execute_result"
    }
   ],
   "source": [
    "h1[0].shape"
   ]
  },
  {
   "cell_type": "code",
   "execution_count": 223,
   "metadata": {},
   "outputs": [],
   "source": [
    "def train(net, data, epochs=10, batch_size=10, seq_length=50, lr=0.001, clip=5, val_frac=0.1, print_every=10):\n",
    "    ''' Training a network \n",
    "    \n",
    "        Arguments\n",
    "        ---------\n",
    "        \n",
    "        net: CharRNN network\n",
    "        data: text data to train the network\n",
    "        epochs: Number of epochs to train\n",
    "        batch_size: Number of mini-sequences per mini-batch, aka batch size\n",
    "        seq_length: Number of character steps per mini-batch\n",
    "        lr: learning rate\n",
    "        clip: gradient clipping\n",
    "        val_frac: Fraction of data to hold out for validation\n",
    "        print_every: Number of steps for printing training and validation loss\n",
    "    \n",
    "    '''\n",
    "    net.train()\n",
    "    \n",
    "    opt = torch.optim.Adam(net.parameters(), lr=lr)\n",
    "    criterion = nn.CrossEntropyLoss()\n",
    "    \n",
    "    # create training and validation data\n",
    "    val_idx = int(len(data)*(1-val_frac))\n",
    "    data, val_data = data[:val_idx], data[val_idx:]\n",
    "    \n",
    "    if(train_on_gpu):\n",
    "        net.cuda()\n",
    "    \n",
    "    counter = 0\n",
    "    n_chars = len(net.chars)\n",
    "    for e in range(epochs):\n",
    "        # initialize hidden state\n",
    "        h = net.init_hidden(batch_size)\n",
    "        \n",
    "        for x, y in get_batches(data, batch_size, seq_length):\n",
    "            counter += 1\n",
    "            \n",
    "            # One-hot encode our data and make them Torch tensors\n",
    "            x = one_hot_encode(x, n_chars)\n",
    "            inputs, targets = torch.from_numpy(x), torch.from_numpy(y)\n",
    "            \n",
    "            if(train_on_gpu):\n",
    "                inputs, targets = inputs.cuda(), targets.cuda()\n",
    "\n",
    "            # Creating new variables for the hidden state, otherwise\n",
    "            # we'd backprop through the entire training history\n",
    "            h = tuple([each.data for each in h])\n",
    "\n",
    "            # zero accumulated gradients\n",
    "            net.zero_grad()\n",
    "            \n",
    "            # get the output from the model\n",
    "            output, h = net(inputs, h)\n",
    "            \n",
    "            # calculate the loss and perform backprop\n",
    "            loss = criterion(output, targets.view(batch_size*seq_length))\n",
    "            loss.backward()\n",
    "            # `clip_grad_norm` helps prevent the exploding gradient problem in RNNs / LSTMs.\n",
    "            nn.utils.clip_grad_norm_(net.parameters(), clip)\n",
    "            opt.step()\n",
    "            \n",
    "            # loss stats\n",
    "            if counter % print_every == 0:\n",
    "                # Get validation loss\n",
    "                val_h = net.init_hidden(batch_size)\n",
    "                val_losses = []\n",
    "                net.eval()\n",
    "                for x, y in get_batches(val_data, batch_size, seq_length):\n",
    "                    # One-hot encode our data and make them Torch tensors\n",
    "                    x = one_hot_encode(x, n_chars)\n",
    "                    x, y = torch.from_numpy(x), torch.from_numpy(y)\n",
    "                    \n",
    "                    # Creating new variables for the hidden state, otherwise\n",
    "                    # we'd backprop through the entire training history\n",
    "                    val_h = tuple([each.data for each in val_h])\n",
    "                    \n",
    "                    inputs, targets = x, y\n",
    "                    if(train_on_gpu):\n",
    "                        inputs, targets = inputs.cuda(), targets.cuda()\n",
    "\n",
    "                    output, val_h = net(inputs, val_h)\n",
    "                    val_loss = criterion(output, targets.view(batch_size*seq_length))\n",
    "                \n",
    "                    val_losses.append(val_loss.item())\n",
    "                \n",
    "                net.train() # reset to train mode after iterationg through validation data\n",
    "                \n",
    "                print(\"Epoch: {}/{}...\".format(e+1, epochs),\n",
    "                      \"Step: {}...\".format(counter),\n",
    "                      \"Loss: {:.4f}...\".format(loss.item()),\n",
    "                      \"Val Loss: {:.4f}\".format(np.mean(val_losses)))"
   ]
  },
  {
   "cell_type": "markdown",
   "metadata": {},
   "source": [
    "## Instantiating the model\n",
    "\n",
    "Now we can actually train the network. First we'll create the network itself, with some given hyperparameters. Then, define the mini-batches sizes, and start training!"
   ]
  },
  {
   "cell_type": "code",
   "execution_count": 224,
   "metadata": {},
   "outputs": [
    {
     "name": "stdout",
     "output_type": "stream",
     "text": [
      "CharRNN(\n",
      "  (lstm): LSTM(83, 512, num_layers=2, batch_first=True, dropout=0.5)\n",
      "  (dropout): Dropout(p=0.5)\n",
      "  (fc): Linear(in_features=512, out_features=83, bias=True)\n",
      ")\n"
     ]
    }
   ],
   "source": [
    "## TODO: set you model hyperparameters\n",
    "# define and print the net\n",
    "n_hidden = 512\n",
    "n_layers = 2\n",
    "\n",
    "net = CharRNN(chars, n_hidden, n_layers)\n",
    "print(net)"
   ]
  },
  {
   "cell_type": "markdown",
   "metadata": {},
   "source": [
    "### Set your training hyperparameters!"
   ]
  },
  {
   "cell_type": "code",
   "execution_count": 225,
   "metadata": {
    "scrolled": false
   },
   "outputs": [
    {
     "name": "stdout",
     "output_type": "stream",
     "text": [
      "Epoch: 1/20... Step: 10... Loss: 3.2519... Val Loss: 3.1965\n",
      "Epoch: 1/20... Step: 20... Loss: 3.1712... Val Loss: 3.1311\n",
      "Epoch: 1/20... Step: 30... Loss: 3.1279... Val Loss: 3.1228\n",
      "Epoch: 1/20... Step: 40... Loss: 3.1187... Val Loss: 3.1193\n",
      "Epoch: 1/20... Step: 50... Loss: 3.1269... Val Loss: 3.1175\n",
      "Epoch: 1/20... Step: 60... Loss: 3.1153... Val Loss: 3.1137\n",
      "Epoch: 1/20... Step: 70... Loss: 3.1118... Val Loss: 3.1095\n",
      "Epoch: 1/20... Step: 80... Loss: 3.1071... Val Loss: 3.0977\n",
      "Epoch: 1/20... Step: 90... Loss: 3.0868... Val Loss: 3.0704\n",
      "Epoch: 1/20... Step: 100... Loss: 3.0303... Val Loss: 3.0093\n",
      "Epoch: 1/20... Step: 110... Loss: 2.9372... Val Loss: 2.9203\n",
      "Epoch: 1/20... Step: 120... Loss: 2.8038... Val Loss: 2.8079\n",
      "Epoch: 1/20... Step: 130... Loss: 2.7052... Val Loss: 2.6734\n",
      "Epoch: 2/20... Step: 140... Loss: 2.6409... Val Loss: 2.5596\n",
      "Epoch: 2/20... Step: 150... Loss: 2.5290... Val Loss: 2.4998\n",
      "Epoch: 2/20... Step: 160... Loss: 2.4744... Val Loss: 2.4559\n",
      "Epoch: 2/20... Step: 170... Loss: 2.4598... Val Loss: 2.4177\n",
      "Epoch: 2/20... Step: 180... Loss: 2.4024... Val Loss: 2.3838\n",
      "Epoch: 2/20... Step: 190... Loss: 2.3783... Val Loss: 2.3534\n",
      "Epoch: 2/20... Step: 200... Loss: 2.3694... Val Loss: 2.3245\n",
      "Epoch: 2/20... Step: 210... Loss: 2.3102... Val Loss: 2.2998\n",
      "Epoch: 2/20... Step: 220... Loss: 2.2758... Val Loss: 2.2692\n",
      "Epoch: 2/20... Step: 230... Loss: 2.2688... Val Loss: 2.2363\n",
      "Epoch: 2/20... Step: 240... Loss: 2.2416... Val Loss: 2.2204\n",
      "Epoch: 2/20... Step: 250... Loss: 2.2004... Val Loss: 2.1917\n",
      "Epoch: 2/20... Step: 260... Loss: 2.1717... Val Loss: 2.1632\n",
      "Epoch: 2/20... Step: 270... Loss: 2.1743... Val Loss: 2.1427\n",
      "Epoch: 3/20... Step: 280... Loss: 2.1259... Val Loss: 2.1183\n",
      "Epoch: 3/20... Step: 290... Loss: 2.1269... Val Loss: 2.0959\n",
      "Epoch: 3/20... Step: 300... Loss: 2.1109... Val Loss: 2.0904\n",
      "Epoch: 3/20... Step: 310... Loss: 2.0375... Val Loss: 2.0617\n",
      "Epoch: 3/20... Step: 320... Loss: 2.0462... Val Loss: 2.0419\n",
      "Epoch: 3/20... Step: 330... Loss: 2.0441... Val Loss: 2.0225\n",
      "Epoch: 3/20... Step: 340... Loss: 2.0254... Val Loss: 2.0043\n",
      "Epoch: 3/20... Step: 350... Loss: 2.0636... Val Loss: 1.9900\n",
      "Epoch: 3/20... Step: 360... Loss: 1.9930... Val Loss: 1.9741\n",
      "Epoch: 3/20... Step: 370... Loss: 2.0014... Val Loss: 1.9574\n",
      "Epoch: 3/20... Step: 380... Loss: 1.9919... Val Loss: 1.9406\n",
      "Epoch: 3/20... Step: 390... Loss: 1.9562... Val Loss: 1.9240\n",
      "Epoch: 3/20... Step: 400... Loss: 1.8984... Val Loss: 1.9117\n",
      "Epoch: 3/20... Step: 410... Loss: 1.9297... Val Loss: 1.8903\n",
      "Epoch: 4/20... Step: 420... Loss: 1.9151... Val Loss: 1.8800\n",
      "Epoch: 4/20... Step: 430... Loss: 1.8921... Val Loss: 1.8626\n",
      "Epoch: 4/20... Step: 440... Loss: 1.8626... Val Loss: 1.8538\n",
      "Epoch: 4/20... Step: 450... Loss: 1.8574... Val Loss: 1.8388\n",
      "Epoch: 4/20... Step: 460... Loss: 1.8390... Val Loss: 1.8323\n",
      "Epoch: 4/20... Step: 470... Loss: 1.8449... Val Loss: 1.8203\n",
      "Epoch: 4/20... Step: 480... Loss: 1.8103... Val Loss: 1.8047\n",
      "Epoch: 4/20... Step: 490... Loss: 1.8233... Val Loss: 1.7947\n",
      "Epoch: 4/20... Step: 500... Loss: 1.8139... Val Loss: 1.7858\n",
      "Epoch: 4/20... Step: 510... Loss: 1.7611... Val Loss: 1.7730\n",
      "Epoch: 4/20... Step: 520... Loss: 1.7671... Val Loss: 1.7623\n",
      "Epoch: 4/20... Step: 530... Loss: 1.7873... Val Loss: 1.7521\n",
      "Epoch: 4/20... Step: 540... Loss: 1.7832... Val Loss: 1.7429\n",
      "Epoch: 4/20... Step: 550... Loss: 1.7567... Val Loss: 1.7350\n",
      "Epoch: 5/20... Step: 560... Loss: 1.7439... Val Loss: 1.7221\n",
      "Epoch: 5/20... Step: 570... Loss: 1.7443... Val Loss: 1.7167\n",
      "Epoch: 5/20... Step: 580... Loss: 1.7221... Val Loss: 1.7098\n",
      "Epoch: 5/20... Step: 590... Loss: 1.7050... Val Loss: 1.6979\n",
      "Epoch: 5/20... Step: 600... Loss: 1.7083... Val Loss: 1.6955\n",
      "Epoch: 5/20... Step: 610... Loss: 1.6708... Val Loss: 1.6862\n",
      "Epoch: 5/20... Step: 620... Loss: 1.7152... Val Loss: 1.6761\n",
      "Epoch: 5/20... Step: 630... Loss: 1.7014... Val Loss: 1.6705\n",
      "Epoch: 5/20... Step: 640... Loss: 1.7008... Val Loss: 1.6666\n",
      "Epoch: 5/20... Step: 650... Loss: 1.6611... Val Loss: 1.6557\n",
      "Epoch: 5/20... Step: 660... Loss: 1.6914... Val Loss: 1.6505\n",
      "Epoch: 5/20... Step: 670... Loss: 1.6586... Val Loss: 1.6471\n",
      "Epoch: 5/20... Step: 680... Loss: 1.6555... Val Loss: 1.6403\n",
      "Epoch: 5/20... Step: 690... Loss: 1.6498... Val Loss: 1.6318\n",
      "Epoch: 6/20... Step: 700... Loss: 1.6284... Val Loss: 1.6277\n",
      "Epoch: 6/20... Step: 710... Loss: 1.6220... Val Loss: 1.6192\n",
      "Epoch: 6/20... Step: 720... Loss: 1.6208... Val Loss: 1.6122\n",
      "Epoch: 6/20... Step: 730... Loss: 1.6466... Val Loss: 1.6073\n",
      "Epoch: 6/20... Step: 740... Loss: 1.6240... Val Loss: 1.6028\n",
      "Epoch: 6/20... Step: 750... Loss: 1.6118... Val Loss: 1.6005\n",
      "Epoch: 6/20... Step: 760... Loss: 1.5969... Val Loss: 1.5923\n",
      "Epoch: 6/20... Step: 770... Loss: 1.5800... Val Loss: 1.5868\n",
      "Epoch: 6/20... Step: 780... Loss: 1.5790... Val Loss: 1.5830\n",
      "Epoch: 6/20... Step: 790... Loss: 1.5740... Val Loss: 1.5783\n",
      "Epoch: 6/20... Step: 800... Loss: 1.5672... Val Loss: 1.5757\n",
      "Epoch: 6/20... Step: 810... Loss: 1.6012... Val Loss: 1.5703\n",
      "Epoch: 6/20... Step: 820... Loss: 1.5570... Val Loss: 1.5640\n",
      "Epoch: 6/20... Step: 830... Loss: 1.6012... Val Loss: 1.5603\n",
      "Epoch: 7/20... Step: 840... Loss: 1.5544... Val Loss: 1.5570\n",
      "Epoch: 7/20... Step: 850... Loss: 1.5746... Val Loss: 1.5556\n",
      "Epoch: 7/20... Step: 860... Loss: 1.5499... Val Loss: 1.5443\n",
      "Epoch: 7/20... Step: 870... Loss: 1.5684... Val Loss: 1.5409\n",
      "Epoch: 7/20... Step: 880... Loss: 1.5358... Val Loss: 1.5430\n",
      "Epoch: 7/20... Step: 890... Loss: 1.5249... Val Loss: 1.5349\n",
      "Epoch: 7/20... Step: 900... Loss: 1.5441... Val Loss: 1.5349\n",
      "Epoch: 7/20... Step: 910... Loss: 1.5002... Val Loss: 1.5294\n",
      "Epoch: 7/20... Step: 920... Loss: 1.5353... Val Loss: 1.5240\n",
      "Epoch: 7/20... Step: 930... Loss: 1.5351... Val Loss: 1.5182\n",
      "Epoch: 7/20... Step: 940... Loss: 1.5338... Val Loss: 1.5151\n",
      "Epoch: 7/20... Step: 950... Loss: 1.4888... Val Loss: 1.5105\n",
      "Epoch: 7/20... Step: 960... Loss: 1.5106... Val Loss: 1.5068\n",
      "Epoch: 7/20... Step: 970... Loss: 1.5275... Val Loss: 1.5070\n",
      "Epoch: 8/20... Step: 980... Loss: 1.5093... Val Loss: 1.5029\n",
      "Epoch: 8/20... Step: 990... Loss: 1.4974... Val Loss: 1.4983\n",
      "Epoch: 8/20... Step: 1000... Loss: 1.5127... Val Loss: 1.4923\n",
      "Epoch: 8/20... Step: 1010... Loss: 1.5261... Val Loss: 1.4911\n",
      "Epoch: 8/20... Step: 1020... Loss: 1.4942... Val Loss: 1.4916\n",
      "Epoch: 8/20... Step: 1030... Loss: 1.4972... Val Loss: 1.4912\n",
      "Epoch: 8/20... Step: 1040... Loss: 1.4925... Val Loss: 1.4853\n",
      "Epoch: 8/20... Step: 1050... Loss: 1.5126... Val Loss: 1.4824\n",
      "Epoch: 8/20... Step: 1060... Loss: 1.4718... Val Loss: 1.4811\n",
      "Epoch: 8/20... Step: 1070... Loss: 1.4683... Val Loss: 1.4771\n",
      "Epoch: 8/20... Step: 1080... Loss: 1.4836... Val Loss: 1.4739\n",
      "Epoch: 8/20... Step: 1090... Loss: 1.4465... Val Loss: 1.4698\n",
      "Epoch: 8/20... Step: 1100... Loss: 1.4684... Val Loss: 1.4687\n",
      "Epoch: 8/20... Step: 1110... Loss: 1.4741... Val Loss: 1.4646\n",
      "Epoch: 9/20... Step: 1120... Loss: 1.4718... Val Loss: 1.4635\n",
      "Epoch: 9/20... Step: 1130... Loss: 1.4619... Val Loss: 1.4618\n",
      "Epoch: 9/20... Step: 1140... Loss: 1.4626... Val Loss: 1.4554\n",
      "Epoch: 9/20... Step: 1150... Loss: 1.4853... Val Loss: 1.4565\n",
      "Epoch: 9/20... Step: 1160... Loss: 1.4487... Val Loss: 1.4564\n",
      "Epoch: 9/20... Step: 1170... Loss: 1.4560... Val Loss: 1.4518\n",
      "Epoch: 9/20... Step: 1180... Loss: 1.4311... Val Loss: 1.4504\n",
      "Epoch: 9/20... Step: 1190... Loss: 1.4489... Val Loss: 1.4477\n",
      "Epoch: 9/20... Step: 1200... Loss: 1.4304... Val Loss: 1.4429\n",
      "Epoch: 9/20... Step: 1210... Loss: 1.4291... Val Loss: 1.4418\n",
      "Epoch: 9/20... Step: 1220... Loss: 1.4369... Val Loss: 1.4379\n",
      "Epoch: 9/20... Step: 1230... Loss: 1.4276... Val Loss: 1.4351\n",
      "Epoch: 9/20... Step: 1240... Loss: 1.4225... Val Loss: 1.4323\n",
      "Epoch: 9/20... Step: 1250... Loss: 1.4140... Val Loss: 1.4302\n",
      "Epoch: 10/20... Step: 1260... Loss: 1.4417... Val Loss: 1.4303\n",
      "Epoch: 10/20... Step: 1270... Loss: 1.4562... Val Loss: 1.4282\n",
      "Epoch: 10/20... Step: 1280... Loss: 1.4407... Val Loss: 1.4226\n",
      "Epoch: 10/20... Step: 1290... Loss: 1.4116... Val Loss: 1.4265\n",
      "Epoch: 10/20... Step: 1300... Loss: 1.4198... Val Loss: 1.4214\n",
      "Epoch: 10/20... Step: 1310... Loss: 1.3920... Val Loss: 1.4206\n",
      "Epoch: 10/20... Step: 1320... Loss: 1.4063... Val Loss: 1.4185\n",
      "Epoch: 10/20... Step: 1330... Loss: 1.3866... Val Loss: 1.4168\n",
      "Epoch: 10/20... Step: 1340... Loss: 1.4032... Val Loss: 1.4163\n"
     ]
    },
    {
     "name": "stdout",
     "output_type": "stream",
     "text": [
      "Epoch: 10/20... Step: 1350... Loss: 1.3857... Val Loss: 1.4127\n",
      "Epoch: 10/20... Step: 1360... Loss: 1.3834... Val Loss: 1.4107\n",
      "Epoch: 10/20... Step: 1370... Loss: 1.3948... Val Loss: 1.4129\n",
      "Epoch: 10/20... Step: 1380... Loss: 1.4276... Val Loss: 1.4063\n",
      "Epoch: 10/20... Step: 1390... Loss: 1.3927... Val Loss: 1.4072\n",
      "Epoch: 11/20... Step: 1400... Loss: 1.4308... Val Loss: 1.4026\n",
      "Epoch: 11/20... Step: 1410... Loss: 1.4288... Val Loss: 1.4049\n",
      "Epoch: 11/20... Step: 1420... Loss: 1.4360... Val Loss: 1.3969\n",
      "Epoch: 11/20... Step: 1430... Loss: 1.3980... Val Loss: 1.3984\n",
      "Epoch: 11/20... Step: 1440... Loss: 1.3807... Val Loss: 1.3993\n",
      "Epoch: 11/20... Step: 1450... Loss: 1.3534... Val Loss: 1.3980\n",
      "Epoch: 11/20... Step: 1460... Loss: 1.3714... Val Loss: 1.3953\n",
      "Epoch: 11/20... Step: 1470... Loss: 1.3862... Val Loss: 1.3919\n",
      "Epoch: 11/20... Step: 1480... Loss: 1.3801... Val Loss: 1.3939\n",
      "Epoch: 11/20... Step: 1490... Loss: 1.3702... Val Loss: 1.3922\n",
      "Epoch: 11/20... Step: 1500... Loss: 1.3409... Val Loss: 1.3903\n",
      "Epoch: 11/20... Step: 1510... Loss: 1.3283... Val Loss: 1.3869\n",
      "Epoch: 11/20... Step: 1520... Loss: 1.3836... Val Loss: 1.3870\n",
      "Epoch: 12/20... Step: 1530... Loss: 1.4376... Val Loss: 1.3851\n",
      "Epoch: 12/20... Step: 1540... Loss: 1.3641... Val Loss: 1.3816\n",
      "Epoch: 12/20... Step: 1550... Loss: 1.3585... Val Loss: 1.3788\n",
      "Epoch: 12/20... Step: 1560... Loss: 1.3750... Val Loss: 1.3758\n",
      "Epoch: 12/20... Step: 1570... Loss: 1.3257... Val Loss: 1.3787\n",
      "Epoch: 12/20... Step: 1580... Loss: 1.3413... Val Loss: 1.3789\n",
      "Epoch: 12/20... Step: 1590... Loss: 1.3622... Val Loss: 1.3783\n",
      "Epoch: 12/20... Step: 1600... Loss: 1.3333... Val Loss: 1.3756\n",
      "Epoch: 12/20... Step: 1610... Loss: 1.3295... Val Loss: 1.3755\n",
      "Epoch: 12/20... Step: 1620... Loss: 1.3238... Val Loss: 1.3756\n",
      "Epoch: 12/20... Step: 1630... Loss: 1.3763... Val Loss: 1.3725\n",
      "Epoch: 12/20... Step: 1640... Loss: 1.3366... Val Loss: 1.3733\n",
      "Epoch: 12/20... Step: 1650... Loss: 1.3415... Val Loss: 1.3706\n",
      "Epoch: 12/20... Step: 1660... Loss: 1.3447... Val Loss: 1.3685\n",
      "Epoch: 13/20... Step: 1670... Loss: 1.3280... Val Loss: 1.3693\n",
      "Epoch: 13/20... Step: 1680... Loss: 1.3456... Val Loss: 1.3625\n",
      "Epoch: 13/20... Step: 1690... Loss: 1.3420... Val Loss: 1.3608\n",
      "Epoch: 13/20... Step: 1700... Loss: 1.3055... Val Loss: 1.3628\n",
      "Epoch: 13/20... Step: 1710... Loss: 1.2822... Val Loss: 1.3609\n",
      "Epoch: 13/20... Step: 1720... Loss: 1.3479... Val Loss: 1.3600\n",
      "Epoch: 13/20... Step: 1730... Loss: 1.3427... Val Loss: 1.3597\n",
      "Epoch: 13/20... Step: 1740... Loss: 1.3446... Val Loss: 1.3637\n",
      "Epoch: 13/20... Step: 1750... Loss: 1.3356... Val Loss: 1.3619\n",
      "Epoch: 13/20... Step: 1760... Loss: 1.3517... Val Loss: 1.3549\n",
      "Epoch: 13/20... Step: 1770... Loss: 1.3293... Val Loss: 1.3580\n",
      "Epoch: 13/20... Step: 1780... Loss: 1.3267... Val Loss: 1.3554\n",
      "Epoch: 13/20... Step: 1790... Loss: 1.2900... Val Loss: 1.3527\n",
      "Epoch: 13/20... Step: 1800... Loss: 1.3490... Val Loss: 1.3548\n",
      "Epoch: 14/20... Step: 1810... Loss: 1.3271... Val Loss: 1.3531\n",
      "Epoch: 14/20... Step: 1820... Loss: 1.3241... Val Loss: 1.3505\n",
      "Epoch: 14/20... Step: 1830... Loss: 1.3251... Val Loss: 1.3466\n",
      "Epoch: 14/20... Step: 1840... Loss: 1.3036... Val Loss: 1.3513\n",
      "Epoch: 14/20... Step: 1850... Loss: 1.2974... Val Loss: 1.3458\n",
      "Epoch: 14/20... Step: 1860... Loss: 1.3104... Val Loss: 1.3470\n",
      "Epoch: 14/20... Step: 1870... Loss: 1.3019... Val Loss: 1.3455\n",
      "Epoch: 14/20... Step: 1880... Loss: 1.3256... Val Loss: 1.3469\n",
      "Epoch: 14/20... Step: 1890... Loss: 1.3144... Val Loss: 1.3431\n",
      "Epoch: 14/20... Step: 1900... Loss: 1.2821... Val Loss: 1.3459\n",
      "Epoch: 14/20... Step: 1910... Loss: 1.2846... Val Loss: 1.3434\n",
      "Epoch: 14/20... Step: 1920... Loss: 1.3193... Val Loss: 1.3394\n",
      "Epoch: 14/20... Step: 1930... Loss: 1.3135... Val Loss: 1.3387\n",
      "Epoch: 14/20... Step: 1940... Loss: 1.3253... Val Loss: 1.3387\n",
      "Epoch: 15/20... Step: 1950... Loss: 1.3053... Val Loss: 1.3403\n",
      "Epoch: 15/20... Step: 1960... Loss: 1.3074... Val Loss: 1.3390\n",
      "Epoch: 15/20... Step: 1970... Loss: 1.2945... Val Loss: 1.3371\n",
      "Epoch: 15/20... Step: 1980... Loss: 1.2759... Val Loss: 1.3374\n",
      "Epoch: 15/20... Step: 1990... Loss: 1.2863... Val Loss: 1.3347\n",
      "Epoch: 15/20... Step: 2000... Loss: 1.2811... Val Loss: 1.3337\n",
      "Epoch: 15/20... Step: 2010... Loss: 1.3133... Val Loss: 1.3324\n",
      "Epoch: 15/20... Step: 2020... Loss: 1.3062... Val Loss: 1.3340\n",
      "Epoch: 15/20... Step: 2030... Loss: 1.2990... Val Loss: 1.3342\n",
      "Epoch: 15/20... Step: 2040... Loss: 1.2800... Val Loss: 1.3333\n",
      "Epoch: 15/20... Step: 2050... Loss: 1.3193... Val Loss: 1.3305\n",
      "Epoch: 15/20... Step: 2060... Loss: 1.2716... Val Loss: 1.3287\n",
      "Epoch: 15/20... Step: 2070... Loss: 1.2840... Val Loss: 1.3289\n",
      "Epoch: 15/20... Step: 2080... Loss: 1.2923... Val Loss: 1.3349\n",
      "Epoch: 16/20... Step: 2090... Loss: 1.2788... Val Loss: 1.3295\n",
      "Epoch: 16/20... Step: 2100... Loss: 1.2797... Val Loss: 1.3268\n",
      "Epoch: 16/20... Step: 2110... Loss: 1.2706... Val Loss: 1.3276\n",
      "Epoch: 16/20... Step: 2120... Loss: 1.2990... Val Loss: 1.3298\n",
      "Epoch: 16/20... Step: 2130... Loss: 1.2822... Val Loss: 1.3278\n",
      "Epoch: 16/20... Step: 2140... Loss: 1.2924... Val Loss: 1.3278\n",
      "Epoch: 16/20... Step: 2150... Loss: 1.2837... Val Loss: 1.3242\n",
      "Epoch: 16/20... Step: 2160... Loss: 1.2577... Val Loss: 1.3236\n",
      "Epoch: 16/20... Step: 2170... Loss: 1.2501... Val Loss: 1.3226\n",
      "Epoch: 16/20... Step: 2180... Loss: 1.2741... Val Loss: 1.3227\n",
      "Epoch: 16/20... Step: 2190... Loss: 1.2684... Val Loss: 1.3239\n",
      "Epoch: 16/20... Step: 2200... Loss: 1.2899... Val Loss: 1.3205\n",
      "Epoch: 16/20... Step: 2210... Loss: 1.2592... Val Loss: 1.3165\n",
      "Epoch: 16/20... Step: 2220... Loss: 1.2913... Val Loss: 1.3210\n",
      "Epoch: 17/20... Step: 2230... Loss: 1.2566... Val Loss: 1.3190\n",
      "Epoch: 17/20... Step: 2240... Loss: 1.2658... Val Loss: 1.3172\n",
      "Epoch: 17/20... Step: 2250... Loss: 1.2556... Val Loss: 1.3151\n",
      "Epoch: 17/20... Step: 2260... Loss: 1.2722... Val Loss: 1.3206\n",
      "Epoch: 17/20... Step: 2270... Loss: 1.2677... Val Loss: 1.3215\n",
      "Epoch: 17/20... Step: 2280... Loss: 1.2394... Val Loss: 1.3172\n",
      "Epoch: 17/20... Step: 2290... Loss: 1.2728... Val Loss: 1.3163\n",
      "Epoch: 17/20... Step: 2300... Loss: 1.2391... Val Loss: 1.3162\n",
      "Epoch: 17/20... Step: 2310... Loss: 1.2516... Val Loss: 1.3150\n",
      "Epoch: 17/20... Step: 2320... Loss: 1.2755... Val Loss: 1.3157\n",
      "Epoch: 17/20... Step: 2330... Loss: 1.2635... Val Loss: 1.3150\n",
      "Epoch: 17/20... Step: 2340... Loss: 1.2336... Val Loss: 1.3115\n",
      "Epoch: 17/20... Step: 2350... Loss: 1.2555... Val Loss: 1.3130\n",
      "Epoch: 17/20... Step: 2360... Loss: 1.2766... Val Loss: 1.3144\n",
      "Epoch: 18/20... Step: 2370... Loss: 1.2607... Val Loss: 1.3129\n",
      "Epoch: 18/20... Step: 2380... Loss: 1.2529... Val Loss: 1.3085\n",
      "Epoch: 18/20... Step: 2390... Loss: 1.2689... Val Loss: 1.3071\n",
      "Epoch: 18/20... Step: 2400... Loss: 1.2737... Val Loss: 1.3115\n",
      "Epoch: 18/20... Step: 2410... Loss: 1.2595... Val Loss: 1.3115\n",
      "Epoch: 18/20... Step: 2420... Loss: 1.2660... Val Loss: 1.3112\n",
      "Epoch: 18/20... Step: 2430... Loss: 1.2604... Val Loss: 1.3069\n",
      "Epoch: 18/20... Step: 2440... Loss: 1.2893... Val Loss: 1.3066\n",
      "Epoch: 18/20... Step: 2450... Loss: 1.2433... Val Loss: 1.3070\n",
      "Epoch: 18/20... Step: 2460... Loss: 1.2266... Val Loss: 1.3044\n",
      "Epoch: 18/20... Step: 2470... Loss: 1.2474... Val Loss: 1.3075\n",
      "Epoch: 18/20... Step: 2480... Loss: 1.2262... Val Loss: 1.3008\n",
      "Epoch: 18/20... Step: 2490... Loss: 1.2335... Val Loss: 1.3037\n",
      "Epoch: 18/20... Step: 2500... Loss: 1.2418... Val Loss: 1.3029\n",
      "Epoch: 19/20... Step: 2510... Loss: 1.2585... Val Loss: 1.3041\n",
      "Epoch: 19/20... Step: 2520... Loss: 1.2541... Val Loss: 1.3017\n",
      "Epoch: 19/20... Step: 2530... Loss: 1.2529... Val Loss: 1.3003\n",
      "Epoch: 19/20... Step: 2540... Loss: 1.2796... Val Loss: 1.3041\n",
      "Epoch: 19/20... Step: 2550... Loss: 1.2434... Val Loss: 1.3043\n",
      "Epoch: 19/20... Step: 2560... Loss: 1.2485... Val Loss: 1.3030\n",
      "Epoch: 19/20... Step: 2570... Loss: 1.2173... Val Loss: 1.2996\n",
      "Epoch: 19/20... Step: 2580... Loss: 1.2394... Val Loss: 1.3002\n",
      "Epoch: 19/20... Step: 2590... Loss: 1.2350... Val Loss: 1.3027\n",
      "Epoch: 19/20... Step: 2600... Loss: 1.2470... Val Loss: 1.3004\n",
      "Epoch: 19/20... Step: 2610... Loss: 1.2469... Val Loss: 1.3016\n",
      "Epoch: 19/20... Step: 2620... Loss: 1.2294... Val Loss: 1.2983\n",
      "Epoch: 19/20... Step: 2630... Loss: 1.2449... Val Loss: 1.3047\n",
      "Epoch: 19/20... Step: 2640... Loss: 1.2308... Val Loss: 1.3007\n",
      "Epoch: 20/20... Step: 2650... Loss: 1.2710... Val Loss: 1.3006\n"
     ]
    },
    {
     "name": "stdout",
     "output_type": "stream",
     "text": [
      "Epoch: 20/20... Step: 2660... Loss: 1.2655... Val Loss: 1.2995\n",
      "Epoch: 20/20... Step: 2670... Loss: 1.2611... Val Loss: 1.2976\n",
      "Epoch: 20/20... Step: 2680... Loss: 1.2294... Val Loss: 1.2974\n",
      "Epoch: 20/20... Step: 2690... Loss: 1.2513... Val Loss: 1.2983\n",
      "Epoch: 20/20... Step: 2700... Loss: 1.2112... Val Loss: 1.2956\n",
      "Epoch: 20/20... Step: 2710... Loss: 1.2354... Val Loss: 1.2940\n",
      "Epoch: 20/20... Step: 2720... Loss: 1.2122... Val Loss: 1.2954\n",
      "Epoch: 20/20... Step: 2730... Loss: 1.2309... Val Loss: 1.2930\n",
      "Epoch: 20/20... Step: 2740... Loss: 1.2162... Val Loss: 1.2936\n",
      "Epoch: 20/20... Step: 2750... Loss: 1.2233... Val Loss: 1.2989\n",
      "Epoch: 20/20... Step: 2760... Loss: 1.2251... Val Loss: 1.2951\n",
      "Epoch: 20/20... Step: 2770... Loss: 1.2506... Val Loss: 1.2961\n",
      "Epoch: 20/20... Step: 2780... Loss: 1.2302... Val Loss: 1.2937\n"
     ]
    }
   ],
   "source": [
    "batch_size = 128\n",
    "seq_length = 100\n",
    "n_epochs = 20 # start small if you are just testing initial behavior\n",
    "\n",
    "# train the model\n",
    "train(net, encoded, epochs=n_epochs, batch_size=batch_size, seq_length=seq_length, lr=0.001, print_every=10)"
   ]
  },
  {
   "cell_type": "markdown",
   "metadata": {},
   "source": [
    "## Getting the best model\n",
    "\n",
    "To set your hyperparameters to get the best performance, you'll want to watch the training and validation losses. If your training loss is much lower than the validation loss, you're overfitting. Increase regularization (more dropout) or use a smaller network. If the training and validation losses are close, you're underfitting so you can increase the size of the network."
   ]
  },
  {
   "cell_type": "markdown",
   "metadata": {},
   "source": [
    "## Hyperparameters\n",
    "\n",
    "Here are the hyperparameters for the network.\n",
    "\n",
    "In defining the model:\n",
    "* `n_hidden` - The number of units in the hidden layers.\n",
    "* `n_layers` - Number of hidden LSTM layers to use.\n",
    "\n",
    "We assume that dropout probability and learning rate will be kept at the default, in this example.\n",
    "\n",
    "And in training:\n",
    "* `batch_size` - Number of sequences running through the network in one pass.\n",
    "* `seq_length` - Number of characters in the sequence the network is trained on. Larger is better typically, the network will learn more long range dependencies. But it takes longer to train. 100 is typically a good number here.\n",
    "* `lr` - Learning rate for training\n",
    "\n",
    "Here's some good advice from Andrej Karpathy on training the network. I'm going to copy it in here for your benefit, but also link to [where it originally came from](https://github.com/karpathy/char-rnn#tips-and-tricks).\n",
    "\n",
    "> ## Tips and Tricks\n",
    "\n",
    ">### Monitoring Validation Loss vs. Training Loss\n",
    ">If you're somewhat new to Machine Learning or Neural Networks it can take a bit of expertise to get good models. The most important quantity to keep track of is the difference between your training loss (printed during training) and the validation loss (printed once in a while when the RNN is run on the validation data (by default every 1000 iterations)). In particular:\n",
    "\n",
    "> - If your training loss is much lower than validation loss then this means the network might be **overfitting**. Solutions to this are to decrease your network size, or to increase dropout. For example you could try dropout of 0.5 and so on.\n",
    "> - If your training/validation loss are about equal then your model is **underfitting**. Increase the size of your model (either number of layers or the raw number of neurons per layer)\n",
    "\n",
    "> ### Approximate number of parameters\n",
    "\n",
    "> The two most important parameters that control the model are `n_hidden` and `n_layers`. I would advise that you always use `n_layers` of either 2/3. The `n_hidden` can be adjusted based on how much data you have. The two important quantities to keep track of here are:\n",
    "\n",
    "> - The number of parameters in your model. This is printed when you start training.\n",
    "> - The size of your dataset. 1MB file is approximately 1 million characters.\n",
    "\n",
    ">These two should be about the same order of magnitude. It's a little tricky to tell. Here are some examples:\n",
    "\n",
    "> - I have a 100MB dataset and I'm using the default parameter settings (which currently print 150K parameters). My data size is significantly larger (100 mil >> 0.15 mil), so I expect to heavily underfit. I am thinking I can comfortably afford to make `n_hidden` larger.\n",
    "> - I have a 10MB dataset and running a 10 million parameter model. I'm slightly nervous and I'm carefully monitoring my validation loss. If it's larger than my training loss then I may want to try to increase dropout a bit and see if that helps the validation loss.\n",
    "\n",
    "> ### Best models strategy\n",
    "\n",
    ">The winning strategy to obtaining very good models (if you have the compute time) is to always err on making the network larger (as large as you're willing to wait for it to compute) and then try different dropout values (between 0,1). Whatever model has the best validation performance (the loss, written in the checkpoint filename, low is good) is the one you should use in the end.\n",
    "\n",
    ">It is very common in deep learning to run many different models with many different hyperparameter settings, and in the end take whatever checkpoint gave the best validation performance.\n",
    "\n",
    ">By the way, the size of your training and validation splits are also parameters. Make sure you have a decent amount of data in your validation set or otherwise the validation performance will be noisy and not very informative."
   ]
  },
  {
   "cell_type": "markdown",
   "metadata": {},
   "source": [
    "## Checkpoint\n",
    "\n",
    "After training, we'll save the model so we can load it again later if we need too. Here I'm saving the parameters needed to create the same architecture, the hidden layer hyperparameters and the text characters."
   ]
  },
  {
   "cell_type": "code",
   "execution_count": 226,
   "metadata": {},
   "outputs": [],
   "source": [
    "# change the name, for saving multiple files\n",
    "model_name = 'rnn_x_epoch.net'\n",
    "\n",
    "checkpoint = {'n_hidden': net.n_hidden,\n",
    "              'n_layers': net.n_layers,\n",
    "              'state_dict': net.state_dict(),\n",
    "              'tokens': net.chars}\n",
    "\n",
    "with open(model_name, 'wb') as f:\n",
    "    torch.save(checkpoint, f)"
   ]
  },
  {
   "cell_type": "markdown",
   "metadata": {},
   "source": [
    "---\n",
    "## Making Predictions\n",
    "\n",
    "Now that the model is trained, we'll want to sample from it and make predictions about next characters! To sample, we pass in a character and have the network predict the next character. Then we take that character, pass it back in, and get another predicted character. Just keep doing this and you'll generate a bunch of text!\n",
    "\n",
    "### A note on the `predict`  function\n",
    "\n",
    "The output of our RNN is from a fully-connected layer and it outputs a **distribution of next-character scores**.\n",
    "\n",
    "> To actually get the next character, we apply a softmax function, which gives us a *probability* distribution that we can then sample to predict the next character.\n",
    "\n",
    "### Top K sampling\n",
    "\n",
    "Our predictions come from a categorical probability distribution over all the possible characters. We can make the sample text and make it more reasonable to handle (with less variables) by only considering some $K$ most probable characters. This will prevent the network from giving us completely absurd characters while allowing it to introduce some noise and randomness into the sampled text. Read more about [topk, here](https://pytorch.org/docs/stable/torch.html#torch.topk).\n"
   ]
  },
  {
   "cell_type": "code",
   "execution_count": 227,
   "metadata": {},
   "outputs": [],
   "source": [
    "def predict(net, char, h=None, top_k=None):\n",
    "        ''' Given a character, predict the next character.\n",
    "            Returns the predicted character and the hidden state.\n",
    "        '''\n",
    "        \n",
    "        # tensor inputs\n",
    "        x = np.array([[net.char2int[char]]])\n",
    "        x = one_hot_encode(x, len(net.chars))\n",
    "        inputs = torch.from_numpy(x)\n",
    "        \n",
    "        if(train_on_gpu):\n",
    "            inputs = inputs.cuda()\n",
    "        \n",
    "        # detach hidden state from history\n",
    "        h = tuple([each.data for each in h])\n",
    "        # get the output of the model\n",
    "        out, h = net(inputs, h)\n",
    "\n",
    "        # get the character probabilities\n",
    "        p = F.softmax(out, dim=1).data\n",
    "        if(train_on_gpu):\n",
    "            p = p.cpu() # move to cpu\n",
    "        \n",
    "        # get top characters\n",
    "        if top_k is None:\n",
    "            top_ch = np.arange(len(net.chars))\n",
    "        else:\n",
    "            p, top_ch = p.topk(top_k)\n",
    "            top_ch = top_ch.numpy().squeeze()\n",
    "        \n",
    "        # select the likely next character with some element of randomness\n",
    "        p = p.numpy().squeeze()\n",
    "        char = np.random.choice(top_ch, p=p/p.sum())\n",
    "        \n",
    "        # return the encoded value of the predicted char and the hidden state\n",
    "        return net.int2char[char], h"
   ]
  },
  {
   "cell_type": "markdown",
   "metadata": {},
   "source": [
    "### Priming and generating text \n",
    "\n",
    "Typically you'll want to prime the network so you can build up a hidden state. Otherwise the network will start out generating characters at random. In general the first bunch of characters will be a little rough since it hasn't built up a long history of characters to predict from."
   ]
  },
  {
   "cell_type": "code",
   "execution_count": 228,
   "metadata": {},
   "outputs": [],
   "source": [
    "def sample(net, size, prime='The', top_k=None):\n",
    "        \n",
    "    if(train_on_gpu):\n",
    "        net.cuda()\n",
    "    else:\n",
    "        net.cpu()\n",
    "    \n",
    "    net.eval() # eval mode\n",
    "    \n",
    "    # First off, run through the prime characters\n",
    "    chars = [ch for ch in prime]\n",
    "    h = net.init_hidden(1)\n",
    "    for ch in prime:\n",
    "        char, h = predict(net, ch, h, top_k=top_k)\n",
    "\n",
    "    chars.append(char)\n",
    "    \n",
    "    # Now pass in the previous character and get a new one\n",
    "    for ii in range(size):\n",
    "        char, h = predict(net, chars[-1], h, top_k=top_k)\n",
    "        chars.append(char)\n",
    "\n",
    "    return ''.join(chars)"
   ]
  },
  {
   "cell_type": "code",
   "execution_count": 229,
   "metadata": {},
   "outputs": [
    {
     "name": "stdout",
     "output_type": "stream",
     "text": [
      "Anna\n",
      "had surmass the possibility of the person on\n",
      "their mother there was in some trath to be asked. She would see\n",
      "her for himself, and was\n",
      "always seriously and took in the same time too work on to the dark five, shrow her husband, still smiling.\n",
      "\n",
      "\"I don't lay\n",
      "at all the stund and already,\" said Vronsky, sitting at a classes smile. \"There is it and at the sensation,\" he said with a land of the son.\n",
      "\n",
      "\"I havenne\n",
      "wanted to say that if you're not meanusel for anything,\" said Anna, she could not stand him.\n",
      "\n",
      "\"A position of the morning of the consequence,\" the countess had been that that\n",
      "she had been that the country should say a picture of the messous face that there was no sort of humalists. But his heart he\n",
      "had so needed in his broad was sorry to\n",
      "say she had seen him,\n",
      "that when the couls of the steps he falling a single conversation\n",
      "were\n",
      "coming to stay all the country, he\n",
      "heard his wife, when she heard the classecing whom they was begun, as in his word, the princess was the place where they was \n"
     ]
    }
   ],
   "source": [
    "print(sample(net, 1000, prime='Anna', top_k=5))"
   ]
  },
  {
   "cell_type": "markdown",
   "metadata": {},
   "source": [
    "## Loading a checkpoint"
   ]
  },
  {
   "cell_type": "code",
   "execution_count": 230,
   "metadata": {},
   "outputs": [],
   "source": [
    "# Here we have loaded in a model that trained over 20 epochs `rnn_20_epoch.net`\n",
    "with open('rnn_x_epoch.net', 'rb') as f:\n",
    "    checkpoint = torch.load(f)\n",
    "    \n",
    "loaded = CharRNN(checkpoint['tokens'], n_hidden=checkpoint['n_hidden'], n_layers=checkpoint['n_layers'])\n",
    "loaded.load_state_dict(checkpoint['state_dict'])"
   ]
  },
  {
   "cell_type": "code",
   "execution_count": 231,
   "metadata": {},
   "outputs": [
    {
     "name": "stdout",
     "output_type": "stream",
     "text": [
      "And Levin said. He did not have said to him.\n",
      "\n",
      "\"Ah, too, and you are going to my friendshy is in the prince, and why do you will to be\n",
      "solitude!\" he answered to his state, smiling at the princess, as he could not have\n",
      "answered, \"I have all the fact, and seems in the mushrooms; because they were sufferings, but that's not a mistake, how day, the first countre. I don't know your any of them. I could not but at the\n",
      "same from the mind in such thinking of the things, and the man, what do\n",
      "you were meaning?\"\n",
      "\n",
      "\"No, this is in the\n",
      "carding, and\n",
      "I\n",
      "have come of my shotings, but that,\" he said, with his fingers, whose countess he had till\n",
      "the sears and\n",
      "took the sight of herself. And was thinking of his highest too, which had\n",
      "been thinking\n",
      "of\n",
      "the\n",
      "summer as it, and that in the man was not a subject, he felt there to come in, when Levin could not see him that thosh was so much an efforts to tears\n",
      "hard\n",
      "haste, the princess and the same sister's\n",
      "study, the fact he saw him to bare the\n",
      "means and softing and asking her and the study where the land of the conversation were so\n",
      "too help a long beart, the carriage say\n",
      "nothing. She\n",
      "was\n",
      "solding herself and an acquaintance trangforththed her\n",
      "to him and they\n",
      "was alone and she was\n",
      "not to be the first to be in the\n",
      "standing\n",
      "of the consciousness and the provinces and son and how she\n",
      "had been a smile to be saying what she was\n",
      "taking in the first certaintress and studions in the carriage.\n",
      "\n",
      "Thene would not think of her suffering, and the same tone of the\n",
      "concears to be suffering to the more\n",
      "than thought.\n",
      "\n",
      "\"What's all the services in that man. A complements, and this morning in alone one was so more for, and the forces to me that you're better too.\"\n",
      "\n",
      "And a special country was the steps the propiting time to take over his hand to him to the suct with a from a smart concert on her hand.\n",
      "\n",
      "\"Well, that is as it is to the position it merely. And I have succeeted\n",
      "as it would be tried.\" And he\n",
      "could not have been the belief was to come to\n",
      "all the timinish of their common. He h\n"
     ]
    }
   ],
   "source": [
    "# Sample using a loaded model\n",
    "print(sample(loaded, 2000, top_k=5, prime=\"And Levin said\"))"
   ]
  },
  {
   "cell_type": "code",
   "execution_count": null,
   "metadata": {
    "collapsed": true
   },
   "outputs": [],
   "source": []
  }
 ],
 "metadata": {
  "kernelspec": {
   "display_name": "Python 3",
   "language": "python",
   "name": "python3"
  },
  "language_info": {
   "codemirror_mode": {
    "name": "ipython",
    "version": 3
   },
   "file_extension": ".py",
   "mimetype": "text/x-python",
   "name": "python",
   "nbconvert_exporter": "python",
   "pygments_lexer": "ipython3",
   "version": "3.6.7"
  }
 },
 "nbformat": 4,
 "nbformat_minor": 2
}
