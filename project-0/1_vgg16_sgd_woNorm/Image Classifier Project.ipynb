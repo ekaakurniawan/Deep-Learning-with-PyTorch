{
 "cells": [
  {
   "cell_type": "markdown",
   "metadata": {},
   "source": [
    "# Developing an AI application\n",
    "\n",
    "Going forward, AI algorithms will be incorporated into more and more everyday applications. For example, you might want to include an image classifier in a smart phone app. To do this, you'd use a deep learning model trained on hundreds of thousands of images as part of the overall application architecture. A large part of software development in the future will be using these types of models as common parts of applications. \n",
    "\n",
    "In this project, you'll train an image classifier to recognize different species of flowers. You can imagine using something like this in a phone app that tells you the name of the flower your camera is looking at. In practice you'd train this classifier, then export it for use in your application. We'll be using [this dataset](http://www.robots.ox.ac.uk/~vgg/data/flowers/102/index.html) of 102 flower categories, you can see a few examples below. \n",
    "\n",
    "<img src='assets/Flowers.png' width=500px>\n",
    "\n",
    "The project is broken down into multiple steps:\n",
    "\n",
    "* Load and preprocess the image dataset\n",
    "* Train the image classifier on your dataset\n",
    "* Use the trained classifier to predict image content\n",
    "\n",
    "We'll lead you through each part which you'll implement in Python.\n",
    "\n",
    "When you've completed this project, you'll have an application that can be trained on any set of labeled images. Here your network will be learning about flowers and end up as a command line application. But, what you do with your new skills depends on your imagination and effort in building a dataset. For example, imagine an app where you take a picture of a car, it tells you what the make and model is, then looks up information about it. Go build your own dataset and make something new.\n",
    "\n",
    "First up is importing the packages you'll need. It's good practice to keep all the imports at the beginning of your code. As you work through this notebook and find you need to import a package, make sure to add the import up here."
   ]
  },
  {
   "cell_type": "code",
   "execution_count": 29,
   "metadata": {},
   "outputs": [],
   "source": [
    "# Imports here\n",
    "import os\n",
    "import numpy as np\n",
    "\n",
    "import torch\n",
    "import torch.optim as optim\n",
    "\n",
    "import torchvision\n",
    "from torchvision import datasets, models, transforms\n",
    "\n",
    "import matplotlib.pyplot as plt\n",
    "%matplotlib inline"
   ]
  },
  {
   "cell_type": "code",
   "execution_count": 6,
   "metadata": {},
   "outputs": [
    {
     "name": "stdout",
     "output_type": "stream",
     "text": [
      "CUDA is available!  Training on GPU ...\n"
     ]
    }
   ],
   "source": [
    "# check if CUDA is available\n",
    "train_on_gpu = torch.cuda.is_available()\n",
    "\n",
    "if not train_on_gpu:\n",
    "    print('CUDA is not available.  Training on CPU ...')\n",
    "else:\n",
    "    print('CUDA is available!  Training on GPU ...')"
   ]
  },
  {
   "cell_type": "markdown",
   "metadata": {},
   "source": [
    "## Load the data\n",
    "\n",
    "Here you'll use `torchvision` to load the data ([documentation](http://pytorch.org/docs/0.3.0/torchvision/index.html)). You can [download the data here](https://s3.amazonaws.com/content.udacity-data.com/courses/nd188/flower_data.zip). The dataset is split into two parts, training and validation. For the training, you'll want to apply transformations such as random scaling, cropping, and flipping. This will help the network generalize leading to better performance. If you use a pre-trained network, you'll also need to make sure the input data is resized to 224x224 pixels as required by the networks.\n",
    "\n",
    "The validation set is used to measure the model's performance on data it hasn't seen yet. For this you don't want any scaling or rotation transformations, but you'll need to resize then crop the images to the appropriate size.\n",
    "\n",
    "The pre-trained networks available from `torchvision` were trained on the ImageNet dataset where each color channel was normalized separately. For both sets you'll need to normalize the means and standard deviations of the images to what the network expects. For the means, it's `[0.485, 0.456, 0.406]` and for the standard deviations `[0.229, 0.224, 0.225]`, calculated from the ImageNet images.  These values will shift each color channel to be centered at 0 and range from -1 to 1."
   ]
  },
  {
   "cell_type": "code",
   "execution_count": 11,
   "metadata": {},
   "outputs": [],
   "source": [
    "data_dir = '../flower_data'\n",
    "train_dir = data_dir + '/train'\n",
    "valid_dir = data_dir + '/valid'"
   ]
  },
  {
   "cell_type": "code",
   "execution_count": 12,
   "metadata": {},
   "outputs": [
    {
     "name": "stdout",
     "output_type": "stream",
     "text": [
      "Num training images:  6552\n",
      "Num validation images:  818\n"
     ]
    }
   ],
   "source": [
    "# TODO: Define your transforms for the training and validation sets\n",
    "data_transforms = transforms.Compose([transforms.RandomResizedCrop(224), \n",
    "                                      transforms.ToTensor()])\n",
    "\n",
    "# TODO: Load the datasets with ImageFolder\n",
    "train_datasets = datasets.ImageFolder(train_dir, transform=data_transforms)\n",
    "valid_datasets = datasets.ImageFolder(valid_dir, transform=data_transforms)\n",
    "\n",
    "# print out some data stats\n",
    "print('Num training images: ', len(train_datasets))\n",
    "print('Num validation images: ', len(valid_datasets))"
   ]
  },
  {
   "cell_type": "code",
   "execution_count": 14,
   "metadata": {},
   "outputs": [],
   "source": [
    "# TODO: Using the image datasets and the trainforms, define the dataloaders\n",
    "batch_size = 20\n",
    "num_workers = 12\n",
    "\n",
    "# prepare data loaders\n",
    "train_loader = torch.utils.data.DataLoader(train_datasets, batch_size=batch_size, \n",
    "                                           num_workers=num_workers, shuffle=True)\n",
    "valid_loader = torch.utils.data.DataLoader(valid_datasets, batch_size=batch_size, \n",
    "                                           num_workers=num_workers, shuffle=True)"
   ]
  },
  {
   "cell_type": "code",
   "execution_count": 17,
   "metadata": {},
   "outputs": [
    {
     "data": {
      "text/plain": [
       "<torch.utils.data.dataloader.DataLoader at 0x7fd8700ee128>"
      ]
     },
     "execution_count": 17,
     "metadata": {},
     "output_type": "execute_result"
    }
   ],
   "source": [
    "train_loader"
   ]
  },
  {
   "cell_type": "code",
   "execution_count": 18,
   "metadata": {},
   "outputs": [
    {
     "data": {
      "text/plain": [
       "<torch.utils.data.dataloader.DataLoader at 0x7fd8700ee240>"
      ]
     },
     "execution_count": 18,
     "metadata": {},
     "output_type": "execute_result"
    }
   ],
   "source": [
    "valid_loader"
   ]
  },
  {
   "cell_type": "markdown",
   "metadata": {},
   "source": [
    "### Label mapping\n",
    "\n",
    "You'll also need to load in a mapping from category label to category name. You can find this in the file `cat_to_name.json`. It's a JSON object which you can read in with the [`json` module](https://docs.python.org/2/library/json.html). This will give you a dictionary mapping the integer encoded categories to the actual names of the flowers."
   ]
  },
  {
   "cell_type": "code",
   "execution_count": 15,
   "metadata": {},
   "outputs": [],
   "source": [
    "import json\n",
    "\n",
    "with open('cat_to_name.json', 'r') as f:\n",
    "    cat_to_name = json.load(f)"
   ]
  },
  {
   "cell_type": "code",
   "execution_count": 16,
   "metadata": {},
   "outputs": [
    {
     "data": {
      "text/plain": [
       "{'21': 'fire lily',\n",
       " '3': 'canterbury bells',\n",
       " '45': 'bolero deep blue',\n",
       " '1': 'pink primrose',\n",
       " '34': 'mexican aster',\n",
       " '27': 'prince of wales feathers',\n",
       " '7': 'moon orchid',\n",
       " '16': 'globe-flower',\n",
       " '25': 'grape hyacinth',\n",
       " '26': 'corn poppy',\n",
       " '79': 'toad lily',\n",
       " '39': 'siam tulip',\n",
       " '24': 'red ginger',\n",
       " '67': 'spring crocus',\n",
       " '35': 'alpine sea holly',\n",
       " '32': 'garden phlox',\n",
       " '10': 'globe thistle',\n",
       " '6': 'tiger lily',\n",
       " '93': 'ball moss',\n",
       " '33': 'love in the mist',\n",
       " '9': 'monkshood',\n",
       " '102': 'blackberry lily',\n",
       " '14': 'spear thistle',\n",
       " '19': 'balloon flower',\n",
       " '100': 'blanket flower',\n",
       " '13': 'king protea',\n",
       " '49': 'oxeye daisy',\n",
       " '15': 'yellow iris',\n",
       " '61': 'cautleya spicata',\n",
       " '31': 'carnation',\n",
       " '64': 'silverbush',\n",
       " '68': 'bearded iris',\n",
       " '63': 'black-eyed susan',\n",
       " '69': 'windflower',\n",
       " '62': 'japanese anemone',\n",
       " '20': 'giant white arum lily',\n",
       " '38': 'great masterwort',\n",
       " '4': 'sweet pea',\n",
       " '86': 'tree mallow',\n",
       " '101': 'trumpet creeper',\n",
       " '42': 'daffodil',\n",
       " '22': 'pincushion flower',\n",
       " '2': 'hard-leaved pocket orchid',\n",
       " '54': 'sunflower',\n",
       " '66': 'osteospermum',\n",
       " '70': 'tree poppy',\n",
       " '85': 'desert-rose',\n",
       " '99': 'bromelia',\n",
       " '87': 'magnolia',\n",
       " '5': 'english marigold',\n",
       " '92': 'bee balm',\n",
       " '28': 'stemless gentian',\n",
       " '97': 'mallow',\n",
       " '57': 'gaura',\n",
       " '40': 'lenten rose',\n",
       " '47': 'marigold',\n",
       " '59': 'orange dahlia',\n",
       " '48': 'buttercup',\n",
       " '55': 'pelargonium',\n",
       " '36': 'ruby-lipped cattleya',\n",
       " '91': 'hippeastrum',\n",
       " '29': 'artichoke',\n",
       " '71': 'gazania',\n",
       " '90': 'canna lily',\n",
       " '18': 'peruvian lily',\n",
       " '98': 'mexican petunia',\n",
       " '8': 'bird of paradise',\n",
       " '30': 'sweet william',\n",
       " '17': 'purple coneflower',\n",
       " '52': 'wild pansy',\n",
       " '84': 'columbine',\n",
       " '12': \"colt's foot\",\n",
       " '11': 'snapdragon',\n",
       " '96': 'camellia',\n",
       " '23': 'fritillary',\n",
       " '50': 'common dandelion',\n",
       " '44': 'poinsettia',\n",
       " '53': 'primula',\n",
       " '72': 'azalea',\n",
       " '65': 'californian poppy',\n",
       " '80': 'anthurium',\n",
       " '76': 'morning glory',\n",
       " '37': 'cape flower',\n",
       " '56': 'bishop of llandaff',\n",
       " '60': 'pink-yellow dahlia',\n",
       " '82': 'clematis',\n",
       " '58': 'geranium',\n",
       " '75': 'thorn apple',\n",
       " '41': 'barbeton daisy',\n",
       " '95': 'bougainvillea',\n",
       " '43': 'sword lily',\n",
       " '83': 'hibiscus',\n",
       " '78': 'lotus lotus',\n",
       " '88': 'cyclamen',\n",
       " '94': 'foxglove',\n",
       " '81': 'frangipani',\n",
       " '74': 'rose',\n",
       " '89': 'watercress',\n",
       " '73': 'water lily',\n",
       " '46': 'wallflower',\n",
       " '77': 'passion flower',\n",
       " '51': 'petunia'}"
      ]
     },
     "execution_count": 16,
     "metadata": {},
     "output_type": "execute_result"
    }
   ],
   "source": [
    "cat_to_name"
   ]
  },
  {
   "cell_type": "markdown",
   "metadata": {},
   "source": [
    "# Building and training the classifier\n",
    "\n",
    "Now that the data is ready, it's time to build and train the classifier. As usual, you should use one of the pretrained models from `torchvision.models` to get the image features. Build and train a new feed-forward classifier using those features.\n",
    "\n",
    "We're going to leave this part up to you. If you want to talk through it with someone, chat with your fellow students! You can also ask questions on the forums or join the instructors in office hours.\n",
    "\n",
    "Refer to [the rubric](https://review.udacity.com/#!/rubrics/1663/view) for guidance on successfully completing this section. Things you'll need to do:\n",
    "\n",
    "* Load a [pre-trained network](http://pytorch.org/docs/master/torchvision/models.html) (If you need a starting point, the VGG networks work great and are straightforward to use)\n",
    "* Define a new, untrained feed-forward network as a classifier, using ReLU activations and dropout\n",
    "* Train the classifier layers using backpropagation using the pre-trained network to get the features\n",
    "* Track the loss and accuracy on the validation set to determine the best hyperparameters\n",
    "\n",
    "We've left a cell open for you below, but use as many as you need. Our advice is to break the problem up into smaller parts you can run separately. Check that each part is doing what you expect, then move on to the next. You'll likely find that as you work through each part, you'll need to go back and modify your previous code. This is totally normal!\n",
    "\n",
    "When training make sure you're updating only the weights of the feed-forward network. You should be able to get the validation accuracy above 70% if you build everything right. Make sure to try different hyperparameters (learning rate, units in the classifier, epochs, etc) to find the best model. Save those hyperparameters to use as default values in the next part of the project."
   ]
  },
  {
   "cell_type": "code",
   "execution_count": 19,
   "metadata": {},
   "outputs": [
    {
     "name": "stderr",
     "output_type": "stream",
     "text": [
      "Downloading: \"https://download.pytorch.org/models/vgg16-397923af.pth\" to /home/eka/.torch/models/vgg16-397923af.pth\n",
      "100%|██████████| 553433881/553433881 [01:18<00:00, 7030531.02it/s] \n"
     ]
    },
    {
     "name": "stdout",
     "output_type": "stream",
     "text": [
      "VGG(\n",
      "  (features): Sequential(\n",
      "    (0): Conv2d(3, 64, kernel_size=(3, 3), stride=(1, 1), padding=(1, 1))\n",
      "    (1): ReLU(inplace)\n",
      "    (2): Conv2d(64, 64, kernel_size=(3, 3), stride=(1, 1), padding=(1, 1))\n",
      "    (3): ReLU(inplace)\n",
      "    (4): MaxPool2d(kernel_size=2, stride=2, padding=0, dilation=1, ceil_mode=False)\n",
      "    (5): Conv2d(64, 128, kernel_size=(3, 3), stride=(1, 1), padding=(1, 1))\n",
      "    (6): ReLU(inplace)\n",
      "    (7): Conv2d(128, 128, kernel_size=(3, 3), stride=(1, 1), padding=(1, 1))\n",
      "    (8): ReLU(inplace)\n",
      "    (9): MaxPool2d(kernel_size=2, stride=2, padding=0, dilation=1, ceil_mode=False)\n",
      "    (10): Conv2d(128, 256, kernel_size=(3, 3), stride=(1, 1), padding=(1, 1))\n",
      "    (11): ReLU(inplace)\n",
      "    (12): Conv2d(256, 256, kernel_size=(3, 3), stride=(1, 1), padding=(1, 1))\n",
      "    (13): ReLU(inplace)\n",
      "    (14): Conv2d(256, 256, kernel_size=(3, 3), stride=(1, 1), padding=(1, 1))\n",
      "    (15): ReLU(inplace)\n",
      "    (16): MaxPool2d(kernel_size=2, stride=2, padding=0, dilation=1, ceil_mode=False)\n",
      "    (17): Conv2d(256, 512, kernel_size=(3, 3), stride=(1, 1), padding=(1, 1))\n",
      "    (18): ReLU(inplace)\n",
      "    (19): Conv2d(512, 512, kernel_size=(3, 3), stride=(1, 1), padding=(1, 1))\n",
      "    (20): ReLU(inplace)\n",
      "    (21): Conv2d(512, 512, kernel_size=(3, 3), stride=(1, 1), padding=(1, 1))\n",
      "    (22): ReLU(inplace)\n",
      "    (23): MaxPool2d(kernel_size=2, stride=2, padding=0, dilation=1, ceil_mode=False)\n",
      "    (24): Conv2d(512, 512, kernel_size=(3, 3), stride=(1, 1), padding=(1, 1))\n",
      "    (25): ReLU(inplace)\n",
      "    (26): Conv2d(512, 512, kernel_size=(3, 3), stride=(1, 1), padding=(1, 1))\n",
      "    (27): ReLU(inplace)\n",
      "    (28): Conv2d(512, 512, kernel_size=(3, 3), stride=(1, 1), padding=(1, 1))\n",
      "    (29): ReLU(inplace)\n",
      "    (30): MaxPool2d(kernel_size=2, stride=2, padding=0, dilation=1, ceil_mode=False)\n",
      "  )\n",
      "  (classifier): Sequential(\n",
      "    (0): Linear(in_features=25088, out_features=4096, bias=True)\n",
      "    (1): ReLU(inplace)\n",
      "    (2): Dropout(p=0.5)\n",
      "    (3): Linear(in_features=4096, out_features=4096, bias=True)\n",
      "    (4): ReLU(inplace)\n",
      "    (5): Dropout(p=0.5)\n",
      "    (6): Linear(in_features=4096, out_features=1000, bias=True)\n",
      "  )\n",
      ")\n"
     ]
    }
   ],
   "source": [
    "# TODO: Build and train your network\n",
    "# Load the pretrained model from pytorch\n",
    "vgg16 = models.vgg16(pretrained=True)\n",
    "\n",
    "# print out the model structure\n",
    "print(vgg16)"
   ]
  },
  {
   "cell_type": "code",
   "execution_count": 20,
   "metadata": {},
   "outputs": [],
   "source": [
    "# Freeze training for all \"features\" layers\n",
    "for param in vgg16.features.parameters():\n",
    "    param.requires_grad = False"
   ]
  },
  {
   "cell_type": "code",
   "execution_count": 21,
   "metadata": {},
   "outputs": [
    {
     "name": "stdout",
     "output_type": "stream",
     "text": [
      "4096\n",
      "1000\n"
     ]
    }
   ],
   "source": [
    "print(vgg16.classifier[6].in_features) \n",
    "print(vgg16.classifier[6].out_features) "
   ]
  },
  {
   "cell_type": "code",
   "execution_count": 23,
   "metadata": {},
   "outputs": [
    {
     "data": {
      "text/plain": [
       "102"
      ]
     },
     "execution_count": 23,
     "metadata": {},
     "output_type": "execute_result"
    }
   ],
   "source": [
    "len(cat_to_name)"
   ]
  },
  {
   "cell_type": "markdown",
   "metadata": {},
   "source": [
    "Pretrained VGG16 has 1000 classes as the output. Replace the classification layer to output only 102 classes."
   ]
  },
  {
   "cell_type": "code",
   "execution_count": 26,
   "metadata": {},
   "outputs": [
    {
     "name": "stdout",
     "output_type": "stream",
     "text": [
      "VGG(\n",
      "  (features): Sequential(\n",
      "    (0): Conv2d(3, 64, kernel_size=(3, 3), stride=(1, 1), padding=(1, 1))\n",
      "    (1): ReLU(inplace)\n",
      "    (2): Conv2d(64, 64, kernel_size=(3, 3), stride=(1, 1), padding=(1, 1))\n",
      "    (3): ReLU(inplace)\n",
      "    (4): MaxPool2d(kernel_size=2, stride=2, padding=0, dilation=1, ceil_mode=False)\n",
      "    (5): Conv2d(64, 128, kernel_size=(3, 3), stride=(1, 1), padding=(1, 1))\n",
      "    (6): ReLU(inplace)\n",
      "    (7): Conv2d(128, 128, kernel_size=(3, 3), stride=(1, 1), padding=(1, 1))\n",
      "    (8): ReLU(inplace)\n",
      "    (9): MaxPool2d(kernel_size=2, stride=2, padding=0, dilation=1, ceil_mode=False)\n",
      "    (10): Conv2d(128, 256, kernel_size=(3, 3), stride=(1, 1), padding=(1, 1))\n",
      "    (11): ReLU(inplace)\n",
      "    (12): Conv2d(256, 256, kernel_size=(3, 3), stride=(1, 1), padding=(1, 1))\n",
      "    (13): ReLU(inplace)\n",
      "    (14): Conv2d(256, 256, kernel_size=(3, 3), stride=(1, 1), padding=(1, 1))\n",
      "    (15): ReLU(inplace)\n",
      "    (16): MaxPool2d(kernel_size=2, stride=2, padding=0, dilation=1, ceil_mode=False)\n",
      "    (17): Conv2d(256, 512, kernel_size=(3, 3), stride=(1, 1), padding=(1, 1))\n",
      "    (18): ReLU(inplace)\n",
      "    (19): Conv2d(512, 512, kernel_size=(3, 3), stride=(1, 1), padding=(1, 1))\n",
      "    (20): ReLU(inplace)\n",
      "    (21): Conv2d(512, 512, kernel_size=(3, 3), stride=(1, 1), padding=(1, 1))\n",
      "    (22): ReLU(inplace)\n",
      "    (23): MaxPool2d(kernel_size=2, stride=2, padding=0, dilation=1, ceil_mode=False)\n",
      "    (24): Conv2d(512, 512, kernel_size=(3, 3), stride=(1, 1), padding=(1, 1))\n",
      "    (25): ReLU(inplace)\n",
      "    (26): Conv2d(512, 512, kernel_size=(3, 3), stride=(1, 1), padding=(1, 1))\n",
      "    (27): ReLU(inplace)\n",
      "    (28): Conv2d(512, 512, kernel_size=(3, 3), stride=(1, 1), padding=(1, 1))\n",
      "    (29): ReLU(inplace)\n",
      "    (30): MaxPool2d(kernel_size=2, stride=2, padding=0, dilation=1, ceil_mode=False)\n",
      "  )\n",
      "  (classifier): Sequential(\n",
      "    (0): Linear(in_features=25088, out_features=4096, bias=True)\n",
      "    (1): ReLU(inplace)\n",
      "    (2): Dropout(p=0.5)\n",
      "    (3): Linear(in_features=4096, out_features=4096, bias=True)\n",
      "    (4): ReLU(inplace)\n",
      "    (5): Dropout(p=0.5)\n",
      "    (6): Linear(in_features=4096, out_features=102, bias=True)\n",
      "  )\n",
      ")\n"
     ]
    }
   ],
   "source": [
    "import torch.nn as nn\n",
    "\n",
    "n_inputs = vgg16.classifier[6].in_features\n",
    "# new layers automatically have requires_grad = True\n",
    "last_layer = nn.Linear(n_inputs, len(cat_to_name))\n",
    "\n",
    "vgg16.classifier[6] = last_layer\n",
    "\n",
    "print(vgg16)"
   ]
  },
  {
   "cell_type": "code",
   "execution_count": 27,
   "metadata": {},
   "outputs": [
    {
     "name": "stdout",
     "output_type": "stream",
     "text": [
      "4096\n",
      "102\n"
     ]
    }
   ],
   "source": [
    "print(vgg16.classifier[6].in_features)\n",
    "print(vgg16.classifier[6].out_features)"
   ]
  },
  {
   "cell_type": "code",
   "execution_count": 28,
   "metadata": {},
   "outputs": [],
   "source": [
    "# if GPU is available, move the model to GPU\n",
    "if train_on_gpu:\n",
    "    vgg16.cuda()"
   ]
  },
  {
   "cell_type": "code",
   "execution_count": 30,
   "metadata": {},
   "outputs": [],
   "source": [
    "# specify loss function (categorical cross-entropy)\n",
    "criterion = nn.CrossEntropyLoss()\n",
    "\n",
    "# specify optimizer (stochastic gradient descent) and learning rate = 0.001\n",
    "optimizer = optim.SGD(vgg16.classifier.parameters(), lr=0.001)"
   ]
  },
  {
   "cell_type": "code",
   "execution_count": 58,
   "metadata": {
    "scrolled": false
   },
   "outputs": [
    {
     "name": "stdout",
     "output_type": "stream",
     "text": [
      "Epoch  1, Batch  100 loss: 1.3294266843795777\n",
      "Epoch  1, Batch  200 loss: 1.4191739594936370\n",
      "Epoch  1, Batch  300 loss: 1.2805308175086976\n",
      "Train Loss    :  1.213016\n",
      "Test Loss     :  1.159870\n",
      "Test Accuracy : 71% (581/818)\n",
      "Epoch  2, Batch  100 loss: 1.2991234833002090\n",
      "Epoch  2, Batch  200 loss: 1.2591242086887360\n",
      "Epoch  2, Batch  300 loss: 1.2953472793102265\n",
      "Train Loss    :  1.236684\n",
      "Test Loss     :  1.112640\n",
      "Test Accuracy : 73% (598/818)\n",
      "Epoch  3, Batch  100 loss: 1.2301560819149018\n",
      "Epoch  3, Batch  200 loss: 1.2277407747507096\n",
      "Epoch  3, Batch  300 loss: 1.2754565542936325\n",
      "Train Loss    :  1.235099\n",
      "Test Loss     :  1.042952\n",
      "Test Accuracy : 73% (602/818)\n",
      "Epoch  4, Batch  100 loss: 1.2720189565420150\n",
      "Epoch  4, Batch  200 loss: 1.1931448692083360\n",
      "Epoch  4, Batch  300 loss: 1.2131708425283432\n",
      "Train Loss    :  1.215936\n",
      "Test Loss     :  1.054732\n",
      "Test Accuracy : 72% (595/818)\n",
      "Epoch  5, Batch  100 loss: 1.1276767987012863\n",
      "Epoch  5, Batch  200 loss: 1.1804746556282044\n",
      "Epoch  5, Batch  300 loss: 1.1468925660848617\n",
      "Train Loss    :  1.144172\n",
      "Test Loss     :  1.031445\n",
      "Test Accuracy : 73% (600/818)\n",
      "Epoch  6, Batch  100 loss: 1.0924720442295075\n",
      "Epoch  6, Batch  200 loss: 1.1509930562973023\n",
      "Epoch  6, Batch  300 loss: 1.1627407526969911\n",
      "Train Loss    :  1.164378\n",
      "Test Loss     :  0.987376\n",
      "Test Accuracy : 74% (613/818)\n",
      "Epoch  7, Batch  100 loss: 1.1212954691052437\n",
      "Epoch  7, Batch  200 loss: 1.0872717240452767\n",
      "Epoch  7, Batch  300 loss: 1.1537514066696166\n",
      "Train Loss    :  1.054579\n",
      "Test Loss     :  0.985006\n",
      "Test Accuracy : 73% (603/818)\n",
      "Epoch  8, Batch  100 loss: 1.0463405913114547\n",
      "Epoch  8, Batch  200 loss: 1.1296194803714752\n",
      "Epoch  8, Batch  300 loss: 1.0904642978310586\n",
      "Train Loss    :  1.128446\n",
      "Test Loss     :  0.922935\n",
      "Test Accuracy : 76% (624/818)\n",
      "Epoch  9, Batch  100 loss: 1.0517819747328758\n",
      "Epoch  9, Batch  200 loss: 1.0723902851343154\n",
      "Epoch  9, Batch  300 loss: 1.0354568627476692\n",
      "Train Loss    :  1.132907\n",
      "Test Loss     :  0.898233\n",
      "Test Accuracy : 75% (616/818)\n",
      "Epoch 10, Batch  100 loss: 1.0580764797329902\n",
      "Epoch 10, Batch  200 loss: 1.0399387016892434\n",
      "Epoch 10, Batch  300 loss: 0.9649734041094780\n",
      "Train Loss    :  1.016506\n",
      "Test Loss     :  0.980505\n",
      "Test Accuracy : 73% (605/818)\n",
      "Epoch 11, Batch  100 loss: 0.9657421201467514\n",
      "Epoch 11, Batch  200 loss: 0.9993061295151711\n",
      "Epoch 11, Batch  300 loss: 1.0007167938351631\n",
      "Train Loss    :  1.082146\n",
      "Test Loss     :  0.923946\n",
      "Test Accuracy : 75% (619/818)\n",
      "Epoch 12, Batch  100 loss: 0.9749676099419594\n",
      "Epoch 12, Batch  200 loss: 1.0135200938582420\n",
      "Epoch 12, Batch  300 loss: 0.9584206444025040\n",
      "Train Loss    :  1.109935\n",
      "Test Loss     :  0.869620\n",
      "Test Accuracy : 76% (629/818)\n",
      "Epoch 13, Batch  100 loss: 0.9938269731402397\n",
      "Epoch 13, Batch  200 loss: 0.9973804773390293\n",
      "Epoch 13, Batch  300 loss: 0.9608160021901131\n",
      "Train Loss    :  1.029600\n",
      "Test Loss     :  0.902672\n",
      "Test Accuracy : 78% (640/818)\n",
      "Epoch 14, Batch  100 loss: 0.9511576703190804\n",
      "Epoch 14, Batch  200 loss: 0.9931772559881210\n",
      "Epoch 14, Batch  300 loss: 0.9977214035391807\n",
      "Train Loss    :  0.970810\n",
      "Test Loss     :  0.945510\n",
      "Test Accuracy : 76% (624/818)\n",
      "Epoch 15, Batch  100 loss: 0.9520827186107635\n",
      "Epoch 15, Batch  200 loss: 0.9268407210707664\n",
      "Epoch 15, Batch  300 loss: 0.9445225510001183\n",
      "Train Loss    :  0.899056\n",
      "Test Loss     :  0.871355\n",
      "Test Accuracy : 77% (634/818)\n",
      "Epoch 16, Batch  100 loss: 0.9733428874611855\n",
      "Epoch 16, Batch  200 loss: 0.9531120350956916\n",
      "Epoch 16, Batch  300 loss: 0.9057820305228234\n",
      "Train Loss    :  0.995119\n",
      "Test Loss     :  0.796888\n",
      "Test Accuracy : 80% (659/818)\n",
      "Epoch 17, Batch  100 loss: 0.9199543213844299\n",
      "Epoch 17, Batch  200 loss: 0.9221124738454819\n",
      "Epoch 17, Batch  300 loss: 0.8989346916973591\n",
      "Train Loss    :  0.926422\n",
      "Test Loss     :  0.839363\n",
      "Test Accuracy : 78% (646/818)\n",
      "Epoch 18, Batch  100 loss: 0.9142046841979027\n",
      "Epoch 18, Batch  200 loss: 0.8760176205635071\n",
      "Epoch 18, Batch  300 loss: 0.9089679822325707\n",
      "Train Loss    :  0.858118\n",
      "Test Loss     :  0.803598\n",
      "Test Accuracy : 79% (653/818)\n",
      "Epoch 19, Batch  100 loss: 0.9154556828737259\n",
      "Epoch 19, Batch  200 loss: 0.8445805737376213\n",
      "Epoch 19, Batch  300 loss: 0.8406971523165703\n",
      "Train Loss    :  0.891130\n",
      "Test Loss     :  0.793466\n",
      "Test Accuracy : 77% (636/818)\n",
      "Epoch 20, Batch  100 loss: 0.8626733531057834\n",
      "Epoch 20, Batch  200 loss: 0.9119721935689449\n",
      "Epoch 20, Batch  300 loss: 0.8814719915390015\n",
      "Train Loss    :  0.857708\n",
      "Test Loss     :  0.836916\n",
      "Test Accuracy : 78% (642/818)\n",
      "Epoch 21, Batch  100 loss: 0.8686020657420158\n",
      "Epoch 21, Batch  200 loss: 0.8928946042060852\n",
      "Epoch 21, Batch  300 loss: 0.8678906175494194\n",
      "Train Loss    :  0.873210\n",
      "Test Loss     :  0.860352\n",
      "Test Accuracy : 77% (632/818)\n",
      "Epoch 22, Batch  100 loss: 0.8888251590728760\n",
      "Epoch 22, Batch  200 loss: 0.8815967395901680\n",
      "Epoch 22, Batch  300 loss: 0.8578899951279163\n",
      "Train Loss    :  0.762369\n",
      "Test Loss     :  0.791461\n",
      "Test Accuracy : 78% (645/818)\n",
      "Epoch 23, Batch  100 loss: 0.8684017214179039\n",
      "Epoch 23, Batch  200 loss: 0.8787948876619339\n",
      "Epoch 23, Batch  300 loss: 0.8474912549555301\n",
      "Train Loss    :  0.815741\n",
      "Test Loss     :  0.782355\n",
      "Test Accuracy : 81% (665/818)\n",
      "Epoch 24, Batch  100 loss: 0.8025626245141030\n",
      "Epoch 24, Batch  200 loss: 0.8661208125948906\n",
      "Epoch 24, Batch  300 loss: 0.9104546570777893\n",
      "Train Loss    :  0.764408\n",
      "Test Loss     :  0.820048\n",
      "Test Accuracy : 78% (640/818)\n",
      "Epoch 25, Batch  100 loss: 0.9107434895634651\n",
      "Epoch 25, Batch  200 loss: 0.8498920580744743\n",
      "Epoch 25, Batch  300 loss: 0.8172075527906418\n",
      "Train Loss    :  0.865357\n",
      "Test Loss     :  0.750047\n",
      "Test Accuracy : 79% (648/818)\n",
      "Epoch 26, Batch  100 loss: 0.7877517279982567\n",
      "Epoch 26, Batch  200 loss: 0.8031499098241329\n",
      "Epoch 26, Batch  300 loss: 0.8169111764431000\n",
      "Train Loss    :  0.918233\n",
      "Test Loss     :  0.756596\n",
      "Test Accuracy : 79% (653/818)\n",
      "Epoch 27, Batch  100 loss: 0.7610112617164850\n",
      "Epoch 27, Batch  200 loss: 0.8181268268823624\n",
      "Epoch 27, Batch  300 loss: 0.8483540636301040\n",
      "Train Loss    :  0.833282\n",
      "Test Loss     :  0.786000\n",
      "Test Accuracy : 77% (638/818)\n",
      "Epoch 28, Batch  100 loss: 0.8109178033471107\n",
      "Epoch 28, Batch  200 loss: 0.8169246864318848\n",
      "Epoch 28, Batch  300 loss: 0.7925600439310074\n",
      "Train Loss    :  0.820765\n",
      "Test Loss     :  0.808995\n",
      "Test Accuracy : 78% (642/818)\n",
      "Epoch 29, Batch  100 loss: 0.7983277809619903\n",
      "Epoch 29, Batch  200 loss: 0.8240996474027633\n",
      "Epoch 29, Batch  300 loss: 0.7808019369840622\n",
      "Train Loss    :  0.728382\n",
      "Test Loss     :  0.780450\n",
      "Test Accuracy : 78% (644/818)\n",
      "Epoch 30, Batch  100 loss: 0.8089774495363236\n",
      "Epoch 30, Batch  200 loss: 0.8023905557394028\n",
      "Epoch 30, Batch  300 loss: 0.8019336912035943\n",
      "Train Loss    :  0.772684\n",
      "Test Loss     :  0.817088\n",
      "Test Accuracy : 78% (641/818)\n"
     ]
    }
   ],
   "source": [
    "# number of epochs to train the model\n",
    "n_epochs = 30\n",
    "\n",
    "for epoch in range(1, n_epochs+1):\n",
    "\n",
    "    ###################\n",
    "    # train the model #\n",
    "    ###################\n",
    "    # keep track of training and validation loss\n",
    "    train_loss = 0.0\n",
    "    total_accumulated_train_loss = 0\n",
    "    \n",
    "    # model by default is set to train\n",
    "    vgg16.train() # eval mode\n",
    "    for batch_i, (data, target) in enumerate(train_loader):\n",
    "        # move tensors to GPU if CUDA is available\n",
    "        if train_on_gpu:\n",
    "            data, target = data.cuda(), target.cuda()\n",
    "        # clear the gradients of all optimized variables\n",
    "        optimizer.zero_grad()\n",
    "        # forward pass: compute predicted outputs by passing inputs to the model\n",
    "        output = vgg16(data)\n",
    "        # calculate the batch loss\n",
    "        loss = criterion(output, target)\n",
    "        # backward pass: compute gradient of the loss with respect to model parameters\n",
    "        loss.backward()\n",
    "        # perform a single optimization step (parameter update)\n",
    "        optimizer.step()\n",
    "        # update training loss \n",
    "        train_loss += loss.item()\n",
    "        total_accumulated_train_loss += 1\n",
    "        \n",
    "        if batch_i % 100 == 99:    # print training loss every specified number of mini-batches\n",
    "            print('Epoch %2d, Batch %4d loss: %.16f' %\n",
    "                  (epoch, batch_i + 1, train_loss / total_accumulated_train_loss))\n",
    "            train_loss = 0.0\n",
    "            total_accumulated_train_loss = 0\n",
    "    \n",
    "    last_train_loss = train_loss / total_accumulated_train_loss\n",
    "    \n",
    "    ######################    \n",
    "    # validate the model #\n",
    "    ######################\n",
    "    # track test loss \n",
    "    # over 5 flower classes\n",
    "    test_loss = 0.0\n",
    "    class_correct = list(0. for i in range(len(cat_to_name)))\n",
    "    class_total = list(0. for i in range(len(cat_to_name)))\n",
    "\n",
    "    # iterate over test data\n",
    "    vgg16.eval() # eval mode\n",
    "    for data, target in valid_loader:\n",
    "        # move tensors to GPU if CUDA is available\n",
    "        if train_on_gpu:\n",
    "            data, target = data.cuda(), target.cuda()\n",
    "        # forward pass: compute predicted outputs by passing inputs to the model\n",
    "        output = vgg16(data)\n",
    "        # calculate the batch loss\n",
    "        loss = criterion(output, target)\n",
    "        # update  test loss \n",
    "        test_loss += loss.item() * data.size(0)\n",
    "        # convert output probabilities to predicted class\n",
    "        _, pred = torch.max(output, 1)    \n",
    "        # compare predictions to true label\n",
    "        correct_tensor = pred.eq(target.data.view_as(pred))\n",
    "        correct = np.squeeze(correct_tensor.numpy()) if not train_on_gpu else np.squeeze(correct_tensor.cpu().numpy())\n",
    "        # calculate test accuracy for each object class\n",
    "        for i in range(len(target)):\n",
    "            label = target.data[i]\n",
    "            class_correct[label] += correct[i].item()\n",
    "            class_total[label] += 1\n",
    "\n",
    "    # calculate avg test loss\n",
    "    test_loss = test_loss / len(valid_loader.dataset)\n",
    "    \n",
    "    print('Train Loss    : {:9.6f}'.format(last_train_loss))\n",
    "    print('Test Loss     : {:9.6f}'.format(test_loss))\n",
    "    print('Test Accuracy : %2d%% (%2d/%2d)' % (\n",
    "        100. * np.sum(class_correct) / np.sum(class_total),\n",
    "        np.sum(class_correct), np.sum(class_total)))\n"
   ]
  },
  {
   "cell_type": "markdown",
   "metadata": {},
   "source": [
    "```\n",
    " - GPU                     : Nvidia GTX 1060\n",
    " - GPU utilization trainig : %\n",
    " - GPU utilization testing : %\n",
    " - GPU memory consmptoin   : GiB\n",
    " - Train time / epoch      : seconds\n",
    " - Test time / epoch       : seconds\n",
    " - Best Test Accuracy      : 78% (641/818)\n",
    "```"
   ]
  },
  {
   "cell_type": "markdown",
   "metadata": {},
   "source": [
    "Test"
   ]
  },
  {
   "cell_type": "code",
   "execution_count": 57,
   "metadata": {
    "scrolled": false
   },
   "outputs": [
    {
     "name": "stdout",
     "output_type": "stream",
     "text": [
      "Test Loss: 1.148058\n",
      "\n",
      "Test Accuracy of pink primrose: 37% ( 3/ 8)\n",
      "Test Accuracy of hard-leaved pocket orchid: 75% ( 3/ 4)\n",
      "Test Accuracy of canterbury bells: 83% ( 5/ 6)\n",
      "Test Accuracy of sweet pea: 80% ( 4/ 5)\n",
      "Test Accuracy of english marigold: 83% ( 5/ 6)\n",
      "Test Accuracy of tiger lily: 60% ( 6/10)\n",
      "Test Accuracy of moon orchid: 40% ( 2/ 5)\n",
      "Test Accuracy of bird of paradise: 80% ( 4/ 5)\n",
      "Test Accuracy of monkshood: 100% ( 1/ 1)\n",
      "Test Accuracy of globe thistle: 42% ( 3/ 7)\n",
      "Test Accuracy of snapdragon: 50% ( 1/ 2)\n",
      "Test Accuracy of colt's foot: 81% (13/16)\n",
      "Test Accuracy of king protea: 45% ( 5/11)\n",
      "Test Accuracy of spear thistle: 25% ( 1/ 4)\n",
      "Test Accuracy of yellow iris: 100% ( 6/ 6)\n",
      "Test Accuracy of globe-flower: 42% ( 3/ 7)\n",
      "Test Accuracy of purple coneflower: 100% ( 4/ 4)\n",
      "Test Accuracy of peruvian lily: 75% ( 6/ 8)\n",
      "Test Accuracy of balloon flower: 91% (11/12)\n",
      "Test Accuracy of giant white arum lily: 60% ( 3/ 5)\n",
      "Test Accuracy of fire lily: 100% ( 2/ 2)\n",
      "Test Accuracy of pincushion flower: 100% ( 3/ 3)\n",
      "Test Accuracy of fritillary: 100% ( 1/ 1)\n",
      "Test Accuracy of red ginger: 80% ( 4/ 5)\n",
      "Test Accuracy of grape hyacinth: 100% ( 7/ 7)\n",
      "Test Accuracy of corn poppy: 100% ( 2/ 2)\n",
      "Test Accuracy of prince of wales feathers: 70% ( 7/10)\n",
      "Test Accuracy of stemless gentian: 100% ( 2/ 2)\n",
      "Test Accuracy of artichoke: 66% ( 2/ 3)\n",
      "Test Accuracy of sweet william: 57% ( 4/ 7)\n",
      "Test Accuracy of carnation: 85% ( 6/ 7)\n",
      "Test Accuracy of garden phlox: 50% ( 2/ 4)\n",
      "Test Accuracy of love in the mist: 66% ( 4/ 6)\n",
      "Test Accuracy of mexican aster: 100% ( 8/ 8)\n",
      "Test Accuracy of alpine sea holly: 75% ( 3/ 4)\n",
      "Test Accuracy of ruby-lipped cattleya: 66% ( 2/ 3)\n",
      "Test Accuracy of cape flower:  0% ( 0/ 6)\n",
      "Test Accuracy of great masterwort: 40% ( 2/ 5)\n",
      "Test Accuracy of siam tulip: 68% (11/16)\n",
      "Test Accuracy of lenten rose: 83% ( 5/ 6)\n",
      "Test Accuracy of barbeton daisy: 42% ( 6/14)\n",
      "Test Accuracy of daffodil: 77% ( 7/ 9)\n",
      "Test Accuracy of sword lily: 25% ( 1/ 4)\n",
      "Test Accuracy of poinsettia: 83% (15/18)\n",
      "Test Accuracy of bolero deep blue: 100% ( 3/ 3)\n",
      "Test Accuracy of wallflower: 22% ( 2/ 9)\n",
      "Test Accuracy of marigold: 100% ( 8/ 8)\n",
      "Test Accuracy of buttercup: 71% ( 5/ 7)\n",
      "Test Accuracy of oxeye daisy: 100% (11/11)\n",
      "Test Accuracy of common dandelion: 64% (18/28)\n",
      "Test Accuracy of petunia: 70% ( 7/10)\n",
      "Test Accuracy of wild pansy: 44% ( 4/ 9)\n",
      "Test Accuracy of primula: 80% ( 8/10)\n",
      "Test Accuracy of sunflower: 75% ( 6/ 8)\n",
      "Test Accuracy of pelargonium: 77% ( 7/ 9)\n",
      "Test Accuracy of bishop of llandaff: 83% ( 5/ 6)\n",
      "Test Accuracy of gaura: 85% (12/14)\n",
      "Test Accuracy of geranium: 100% ( 4/ 4)\n",
      "Test Accuracy of orange dahlia: 100% ( 1/ 1)\n",
      "Test Accuracy of pink-yellow dahlia: 100% (14/14)\n",
      "Test Accuracy of cautleya spicata: 100% ( 6/ 6)\n",
      "Test Accuracy of japanese anemone: 33% ( 1/ 3)\n",
      "Test Accuracy of black-eyed susan: 62% ( 5/ 8)\n",
      "Test Accuracy of silverbush: 40% ( 2/ 5)\n",
      "Test Accuracy of californian poppy: 85% ( 6/ 7)\n",
      "Test Accuracy of osteospermum: 83% ( 5/ 6)\n",
      "Test Accuracy of spring crocus:  0% ( 0/ 2)\n",
      "Test Accuracy of bearded iris: 62% ( 5/ 8)\n",
      "Test Accuracy of windflower: 80% ( 4/ 5)\n",
      "Test Accuracy of tree poppy:  0% ( 0/ 1)\n",
      "Test Accuracy of gazania: 71% ( 5/ 7)\n",
      "Test Accuracy of azalea: 80% ( 4/ 5)\n",
      "Test Accuracy of water lily: 62% ( 5/ 8)\n",
      "Test Accuracy of  rose: 94% (18/19)\n",
      "Test Accuracy of thorn apple: 80% (12/15)\n",
      "Test Accuracy of morning glory: 91% (11/12)\n",
      "Test Accuracy of passion flower: 55% (11/20)\n",
      "Test Accuracy of lotus lotus: 100% (21/21)\n",
      "Test Accuracy of toad lily: 81% ( 9/11)\n",
      "Test Accuracy of anthurium: 75% ( 3/ 4)\n",
      "Test Accuracy of frangipani: 80% ( 4/ 5)\n",
      "Test Accuracy of clematis: 75% ( 9/12)\n",
      "Test Accuracy of hibiscus: 100% (18/18)\n",
      "Test Accuracy of columbine: 69% ( 9/13)\n",
      "Test Accuracy of desert-rose: 84% (11/13)\n",
      "Test Accuracy of tree mallow: 40% ( 4/10)\n",
      "Test Accuracy of magnolia: 60% ( 3/ 5)\n",
      "Test Accuracy of cyclamen: 60% ( 3/ 5)\n",
      "Test Accuracy of watercress: 83% ( 5/ 6)\n",
      "Test Accuracy of canna lily: 76% (19/25)\n",
      "Test Accuracy of hippeastrum: 93% (15/16)\n",
      "Test Accuracy of bee balm:  0% ( 0/ 3)\n",
      "Test Accuracy of ball moss: 50% ( 1/ 2)\n",
      "Test Accuracy of foxglove: 66% ( 6/ 9)\n",
      "Test Accuracy of bougainvillea: 100% ( 2/ 2)\n",
      "Test Accuracy of camellia: 33% ( 2/ 6)\n",
      "Test Accuracy of mallow: 85% (12/14)\n",
      "Test Accuracy of mexican petunia: 53% ( 7/13)\n",
      "Test Accuracy of bromelia: 20% ( 2/10)\n",
      "Test Accuracy of blanket flower: 57% ( 4/ 7)\n",
      "Test Accuracy of trumpet creeper: 50% ( 5/10)\n",
      "Test Accuracy of blackberry lily: 83% ( 5/ 6)\n",
      "\n",
      "Test Accuracy (Overall): 72% (589/818)\n"
     ]
    }
   ],
   "source": [
    "# track test loss \n",
    "# over 5 flower classes\n",
    "test_loss = 0.0\n",
    "class_correct = list(0. for i in range(len(cat_to_name)))\n",
    "class_total = list(0. for i in range(len(cat_to_name)))\n",
    "\n",
    "# iterate over test data\n",
    "vgg16.eval() # eval mode\n",
    "for data, target in valid_loader:\n",
    "    # move tensors to GPU if CUDA is available\n",
    "    if train_on_gpu:\n",
    "        data, target = data.cuda(), target.cuda()\n",
    "    # forward pass: compute predicted outputs by passing inputs to the model\n",
    "    output = vgg16(data)\n",
    "    # calculate the batch loss\n",
    "    loss = criterion(output, target)\n",
    "    # update  test loss \n",
    "    test_loss += loss.item() * data.size(0)\n",
    "    # convert output probabilities to predicted class\n",
    "    _, pred = torch.max(output, 1)    \n",
    "    # compare predictions to true label\n",
    "    correct_tensor = pred.eq(target.data.view_as(pred))\n",
    "    correct = np.squeeze(correct_tensor.numpy()) if not train_on_gpu else np.squeeze(correct_tensor.cpu().numpy())\n",
    "    # calculate test accuracy for each object class\n",
    "    for i in range(len(target)):\n",
    "        label = target.data[i]\n",
    "        class_correct[label] += correct[i].item()\n",
    "        class_total[label] += 1\n",
    "\n",
    "# calculate avg test loss\n",
    "test_loss = test_loss/len(valid_loader.dataset)\n",
    "print('Test Loss: {:.6f}\\n'.format(test_loss))\n",
    "\n",
    "for i in range(len(cat_to_name)):\n",
    "    if class_total[i] > 0:\n",
    "        print('Test Accuracy of %5s: %2d%% (%2d/%2d)' % (\n",
    "            cat_to_name[str(i+1)], 100 * class_correct[i] / class_total[i],\n",
    "            np.sum(class_correct[i]), np.sum(class_total[i])))\n",
    "    else:\n",
    "        print('Test Accuracy of %5s: N/A (no training examples)' % (classes[i]))\n",
    "\n",
    "print('\\nTest Accuracy (Overall): %2d%% (%2d/%2d)' % (\n",
    "    100. * np.sum(class_correct) / np.sum(class_total),\n",
    "    np.sum(class_correct), np.sum(class_total)))"
   ]
  },
  {
   "cell_type": "markdown",
   "metadata": {},
   "source": [
    "## Save the checkpoint\n",
    "\n",
    "Now that your network is trained, save the model so you can load it later for making predictions. You probably want to save other things such as the mapping of classes to indices which you get from one of the image datasets: `image_datasets['train'].class_to_idx`. You can attach this to the model as an attribute which makes inference easier later on.\n",
    "\n",
    "```model.class_to_idx = image_datasets['train'].class_to_idx```\n",
    "\n",
    "Remember that you'll want to completely rebuild the model later so you can use it for inference. Make sure to include any information you need in the checkpoint. If you want to load the model and keep training, you'll want to save the number of epochs as well as the optimizer state, `optimizer.state_dict`. You'll likely want to use this trained model in the next part of the project, so best to save it now."
   ]
  },
  {
   "cell_type": "code",
   "execution_count": null,
   "metadata": {},
   "outputs": [],
   "source": [
    "# TODO: Save the checkpoint "
   ]
  },
  {
   "cell_type": "markdown",
   "metadata": {},
   "source": [
    "## Loading the checkpoint\n",
    "\n",
    "At this point it's good to write a function that can load a checkpoint and rebuild the model. That way you can come back to this project and keep working on it without having to retrain the network."
   ]
  },
  {
   "cell_type": "code",
   "execution_count": null,
   "metadata": {},
   "outputs": [],
   "source": [
    "# TODO: Write a function that loads a checkpoint and rebuilds the model"
   ]
  },
  {
   "cell_type": "markdown",
   "metadata": {},
   "source": [
    "# Inference for classification\n",
    "\n",
    "Now you'll write a function to use a trained network for inference. That is, you'll pass an image into the network and predict the class of the flower in the image. Write a function called `predict` that takes an image and a model, then returns the top $K$ most likely classes along with the probabilities. It should look like \n",
    "\n",
    "```python\n",
    "probs, classes = predict(image_path, model)\n",
    "print(probs)\n",
    "print(classes)\n",
    "> [ 0.01558163  0.01541934  0.01452626  0.01443549  0.01407339]\n",
    "> ['70', '3', '45', '62', '55']\n",
    "```\n",
    "\n",
    "First you'll need to handle processing the input image such that it can be used in your network. \n",
    "\n",
    "## Image Preprocessing\n",
    "\n",
    "You'll want to use `PIL` to load the image ([documentation](https://pillow.readthedocs.io/en/latest/reference/Image.html)). It's best to write a function that preprocesses the image so it can be used as input for the model. This function should process the images in the same manner used for training. \n",
    "\n",
    "First, resize the images where the shortest side is 256 pixels, keeping the aspect ratio. This can be done with the [`thumbnail`](http://pillow.readthedocs.io/en/3.1.x/reference/Image.html#PIL.Image.Image.thumbnail) or [`resize`](http://pillow.readthedocs.io/en/3.1.x/reference/Image.html#PIL.Image.Image.thumbnail) methods. Then you'll need to crop out the center 224x224 portion of the image.\n",
    "\n",
    "Color channels of images are typically encoded as integers 0-255, but the model expected floats 0-1. You'll need to convert the values. It's easiest with a Numpy array, which you can get from a PIL image like so `np_image = np.array(pil_image)`.\n",
    "\n",
    "As before, the network expects the images to be normalized in a specific way. For the means, it's `[0.485, 0.456, 0.406]` and for the standard deviations `[0.229, 0.224, 0.225]`. You'll want to subtract the means from each color channel, then divide by the standard deviation. \n",
    "\n",
    "And finally, PyTorch expects the color channel to be the first dimension but it's the third dimension in the PIL image and Numpy array. You can reorder dimensions using [`ndarray.transpose`](https://docs.scipy.org/doc/numpy-1.13.0/reference/generated/numpy.ndarray.transpose.html). The color channel needs to be first and retain the order of the other two dimensions."
   ]
  },
  {
   "cell_type": "code",
   "execution_count": null,
   "metadata": {},
   "outputs": [],
   "source": [
    "def process_image(image):\n",
    "    ''' Scales, crops, and normalizes a PIL image for a PyTorch model,\n",
    "        returns an Numpy array\n",
    "    '''\n",
    "    \n",
    "    # TODO: Process a PIL image for use in a PyTorch model"
   ]
  },
  {
   "cell_type": "markdown",
   "metadata": {},
   "source": [
    "To check your work, the function below converts a PyTorch tensor and displays it in the notebook. If your `process_image` function works, running the output through this function should return the original image (except for the cropped out portions)."
   ]
  },
  {
   "cell_type": "code",
   "execution_count": null,
   "metadata": {},
   "outputs": [],
   "source": [
    "def imshow(image, ax=None, title=None):\n",
    "    \"\"\"Imshow for Tensor.\"\"\"\n",
    "    if ax is None:\n",
    "        fig, ax = plt.subplots()\n",
    "    \n",
    "    # PyTorch tensors assume the color channel is the first dimension\n",
    "    # but matplotlib assumes is the third dimension\n",
    "    image = image.numpy().transpose((1, 2, 0))\n",
    "    \n",
    "    # Undo preprocessing\n",
    "    mean = np.array([0.485, 0.456, 0.406])\n",
    "    std = np.array([0.229, 0.224, 0.225])\n",
    "    image = std * image + mean\n",
    "    \n",
    "    # Image needs to be clipped between 0 and 1 or it looks like noise when displayed\n",
    "    image = np.clip(image, 0, 1)\n",
    "    \n",
    "    ax.imshow(image)\n",
    "    \n",
    "    return ax"
   ]
  },
  {
   "cell_type": "markdown",
   "metadata": {},
   "source": [
    "## Class Prediction\n",
    "\n",
    "Once you can get images in the correct format, it's time to write a function for making predictions with your model. A common practice is to predict the top 5 or so (usually called top-$K$) most probable classes. You'll want to calculate the class probabilities then find the $K$ largest values.\n",
    "\n",
    "To get the top $K$ largest values in a tensor use [`x.topk(k)`](http://pytorch.org/docs/master/torch.html#torch.topk). This method returns both the highest `k` probabilities and the indices of those probabilities corresponding to the classes. You need to convert from these indices to the actual class labels using `class_to_idx` which hopefully you added to the model or from an `ImageFolder` you used to load the data ([see here](#Save-the-checkpoint)). Make sure to invert the dictionary so you get a mapping from index to class as well.\n",
    "\n",
    "Again, this method should take a path to an image and a model checkpoint, then return the probabilities and classes.\n",
    "\n",
    "```python\n",
    "probs, classes = predict(image_path, model)\n",
    "print(probs)\n",
    "print(classes)\n",
    "> [ 0.01558163  0.01541934  0.01452626  0.01443549  0.01407339]\n",
    "> ['70', '3', '45', '62', '55']\n",
    "```"
   ]
  },
  {
   "cell_type": "code",
   "execution_count": null,
   "metadata": {},
   "outputs": [],
   "source": [
    "def predict(image_path, model, topk=5):\n",
    "    ''' Predict the class (or classes) of an image using a trained deep learning model.\n",
    "    '''\n",
    "    \n",
    "    # TODO: Implement the code to predict the class from an image file"
   ]
  },
  {
   "cell_type": "markdown",
   "metadata": {},
   "source": [
    "## Sanity Checking\n",
    "\n",
    "Now that you can use a trained model for predictions, check to make sure it makes sense. Even if the validation accuracy is high, it's always good to check that there aren't obvious bugs. Use `matplotlib` to plot the probabilities for the top 5 classes as a bar graph, along with the input image. It should look like this:\n",
    "\n",
    "<img src='assets/inference_example.png' width=300px>\n",
    "\n",
    "You can convert from the class integer encoding to actual flower names with the `cat_to_name.json` file (should have been loaded earlier in the notebook). To show a PyTorch tensor as an image, use the `imshow` function defined above."
   ]
  },
  {
   "cell_type": "code",
   "execution_count": null,
   "metadata": {},
   "outputs": [],
   "source": [
    "# TODO: Display an image along with the top 5 classes"
   ]
  }
 ],
 "metadata": {
  "kernelspec": {
   "display_name": "Python 3",
   "language": "python",
   "name": "python3"
  },
  "language_info": {
   "codemirror_mode": {
    "name": "ipython",
    "version": 3
   },
   "file_extension": ".py",
   "mimetype": "text/x-python",
   "name": "python",
   "nbconvert_exporter": "python",
   "pygments_lexer": "ipython3",
   "version": "3.6.7"
  }
 },
 "nbformat": 4,
 "nbformat_minor": 2
}
